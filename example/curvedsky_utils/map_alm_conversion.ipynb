{
 "cells": [
  {
   "cell_type": "markdown",
   "metadata": {},
   "source": [
    "Check conversion between map and harmonic coefficients (alm)"
   ]
  },
  {
   "cell_type": "code",
   "execution_count": 1,
   "metadata": {},
   "outputs": [],
   "source": [
    "import numpy as np\n",
    "import healpy as hp\n",
    "import curvedsky as cs"
   ]
  },
  {
   "cell_type": "code",
   "execution_count": 2,
   "metadata": {},
   "outputs": [],
   "source": [
    "lmax = 1000\n",
    "cl = np.ones(lmax+1)\n",
    "nside = 512"
   ]
  },
  {
   "cell_type": "markdown",
   "metadata": {},
   "source": [
    "Generate alm from healpy software"
   ]
  },
  {
   "cell_type": "code",
   "execution_count": 3,
   "metadata": {},
   "outputs": [
    {
     "name": "stderr",
     "output_type": "stream",
     "text": [
      "/global/homes/t/toshiyan/.conda/envs/loc/lib/python3.7/site-packages/healpy/sphtfunc.py:438: FutureChangeWarning: The order of the input cl's will change in a future release.\n",
      "Use new=True keyword to start using the new order.\n",
      "See documentation of healpy.synalm.\n",
      "  category=FutureChangeWarning,\n"
     ]
    },
    {
     "data": {
      "text/plain": [
       "(-0.48964880503237845+1.0662947081529155j)"
      ]
     },
     "execution_count": 3,
     "metadata": {},
     "output_type": "execute_result"
    }
   ],
   "source": [
    "hlm = hp.sphtfunc.synalm(cl,lmax)\n",
    "hlm[hp.sphtfunc.Alm.getidx(lmax,10,9)]"
   ]
  },
  {
   "cell_type": "markdown",
   "metadata": {},
   "source": [
    "Convert order of alm array index (from healpy to Healpix)"
   ]
  },
  {
   "cell_type": "code",
   "execution_count": 4,
   "metadata": {},
   "outputs": [
    {
     "name": "stdout",
     "output_type": "stream",
     "text": [
      "(1001, 1001)\n",
      "(-0.48964880503237845+1.0662947081529155j)\n"
     ]
    }
   ],
   "source": [
    "alm = cs.utils.lm_healpy2healpix(hlm, lmax)\n",
    "print(np.shape(alm))\n",
    "print(alm[10,9])"
   ]
  },
  {
   "cell_type": "markdown",
   "metadata": {},
   "source": [
    "Compare at map level"
   ]
  },
  {
   "cell_type": "code",
   "execution_count": 5,
   "metadata": {},
   "outputs": [
    {
     "name": "stdout",
     "output_type": "stream",
     "text": [
      "[ -26.93096447  140.48902156  443.95999212 ... -111.39608793   60.10882214\n",
      "  -66.16314278]\n"
     ]
    }
   ],
   "source": [
    "hmap = hp.sphtfunc.alm2map(hlm,nside,verbose=False)\n",
    "print(hmap)"
   ]
  },
  {
   "cell_type": "code",
   "execution_count": 6,
   "metadata": {},
   "outputs": [
    {
     "name": "stdout",
     "output_type": "stream",
     "text": [
      "[ -26.93096447  140.48902156  443.95999212 ... -111.39608793   60.10882214\n",
      "  -66.16314278]\n"
     ]
    }
   ],
   "source": [
    "map = cs.utils.hp_alm2map(nside,lmax,lmax,alm)\n",
    "print(map)"
   ]
  },
  {
   "cell_type": "markdown",
   "metadata": {},
   "source": [
    "Convert back to alm"
   ]
  },
  {
   "cell_type": "code",
   "execution_count": 7,
   "metadata": {},
   "outputs": [
    {
     "name": "stdout",
     "output_type": "stream",
     "text": [
      "(-0.48964821364430366+1.066293165905877j)\n"
     ]
    }
   ],
   "source": [
    "blm = cs.utils.hp_map2alm(nside,lmax,lmax,map)\n",
    "print(blm[10,9])"
   ]
  },
  {
   "cell_type": "code",
   "execution_count": 8,
   "metadata": {},
   "outputs": [
    {
     "name": "stdout",
     "output_type": "stream",
     "text": [
      "(-0.48964880503237845+1.0662947081529188j)\n"
     ]
    }
   ],
   "source": [
    "ilm = hp.sphtfunc.map2alm(hmap,lmax)\n",
    "print(ilm[hp.sphtfunc.Alm.getidx(lmax,10,9)])"
   ]
  },
  {
   "cell_type": "code",
   "execution_count": null,
   "metadata": {},
   "outputs": [],
   "source": []
  }
 ],
 "metadata": {
  "kernelspec": {
   "display_name": "py4so",
   "language": "python",
   "name": "py4so"
  },
  "language_info": {
   "codemirror_mode": {
    "name": "ipython",
    "version": 3
   },
   "file_extension": ".py",
   "mimetype": "text/x-python",
   "name": "python",
   "nbconvert_exporter": "python",
   "pygments_lexer": "ipython3",
   "version": "3.7.2"
  }
 },
 "nbformat": 4,
 "nbformat_minor": 4
}
