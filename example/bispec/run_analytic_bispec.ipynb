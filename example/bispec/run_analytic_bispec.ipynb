{
 "cells": [
  {
   "cell_type": "code",
   "execution_count": 9,
   "metadata": {},
   "outputs": [],
   "source": [
    "import numpy as np\n",
    "from matplotlib.pyplot import *\n",
    "import basic\n",
    "import camb"
   ]
  },
  {
   "cell_type": "code",
   "execution_count": 39,
   "metadata": {},
   "outputs": [],
   "source": [
    "cpmodel = 'modelw'\n",
    "#model = 'RT'\n",
    "model = 'GM'\n",
    "#model = 'SC'\n",
    "zcmb = 1088.69\n",
    "zm   = 1.\n",
    "zs   = [zcmb,zcmb,zcmb]\n",
    "#zmin, zmax = 0.0001, 1088.69\n",
    "zmin, zmax = 0.0001, 40.\n",
    "zn = 50\n",
    "btype = 'kkk'\n",
    "#btype = 'gkk'\n",
    "#btype = 'ggk'\n",
    "lmin = 1\n",
    "lmax = 2048\n",
    "olmin = lmin\n",
    "olmax = lmax\n",
    "L = np.linspace(0,olmax,olmax+1)\n",
    "z, dz = basic.bispec.zpoints(zmin,zmax,zn)"
   ]
  },
  {
   "cell_type": "code",
   "execution_count": 37,
   "metadata": {},
   "outputs": [],
   "source": [
    "pars = camb.CAMBparams()\n",
    "pars.set_cosmology(H0=70., ombh2=0.046*.7**2, omch2=0.233*.7**2)\n",
    "pars.InitPower.set_params(ns=0.97,As=2.25e-9)\n",
    "pars.set_matter_power(redshifts=[0.], kmax=20.)\n",
    "results = camb.get_results(pars)\n",
    "k, __, pk = results.get_matter_power_spectrum(minkh=1e-4, maxkh=10, npoints=1000)\n",
    "s8 = np.array(results.get_sigma8())"
   ]
  },
  {
   "cell_type": "code",
   "execution_count": 38,
   "metadata": {},
   "outputs": [],
   "source": [
    "#D = '/global/homes/t/toshiyan/Work/Ongoing/bispec/data/'\n",
    "#k, pk0 = np.loadtxt( D+cpmodel+'/Pk/Pklin.dat', unpack=True )\n",
    "kn = np.size(k)"
   ]
  },
  {
   "cell_type": "code",
   "execution_count": 33,
   "metadata": {},
   "outputs": [
    {
     "name": "stdout",
     "output_type": "stream",
     "text": [
      "1000\n"
     ]
    }
   ],
   "source": [
    "print(kn)"
   ]
  },
  {
   "cell_type": "code",
   "execution_count": 35,
   "metadata": {},
   "outputs": [
    {
     "data": {
      "text/plain": [
       "[<matplotlib.lines.Line2D at 0x2aaad5da5160>]"
      ]
     },
     "execution_count": 35,
     "metadata": {},
     "output_type": "execute_result"
    },
    {
     "data": {
      "image/png": "[encoded data removed]",
      "text/plain": [
       "<Figure size 432x288 with 1 Axes>"
      ]
     },
     "metadata": {
      "needs_background": "light"
     },
     "output_type": "display_data"
    }
   ],
   "source": [
    "#oglog(k,pk0)\n",
    "loglog(k,pk[0])"
   ]
  },
  {
   "cell_type": "code",
   "execution_count": 40,
   "metadata": {},
   "outputs": [],
   "source": [
    "if btype == 'kkk': \n",
    "    dNdz = None\n",
    "else:\n",
    "    dNdz = basic.galaxy.dndz_sf(z,2.,1.,zm)\n",
    "\n",
    "bl0, pb0 = basic.bispec.bispeclens('equi',cpmodel,model,z,dz,zs,lmin,lmax,k,pk[0],btype=btype,dNdz=dNdz)\n",
    "bl1, pb1 = basic.bispec.bispeclens('fold',cpmodel,model,z,dz,zs,lmin,lmax,k,pk[0],btype=btype,dNdz=dNdz)\n",
    "bl2, pb2 = basic.bispec.bispeclens('sque',cpmodel,model,z,dz,zs,lmin,lmax,k,pk[0],btype=btype,dNdz=dNdz)\n",
    "bl3, pb3 = basic.bispec.bispeclens('angl',cpmodel,model,z,dz,zs,lmin,lmax,k,pk[0],btype=btype,dNdz=dNdz)\n",
    "#np.savetxt('test_zs'+str(zs[0])+'-'+str(zs[1])+'-'+str(zs[2])+'.dat',np.array((L[1:],bl0,bl1,bl2,bl3,pb0,pb1,pb2,pb3)).T)"
   ]
  },
  {
   "cell_type": "code",
   "execution_count": 41,
   "metadata": {},
   "outputs": [
    {
     "data": {
      "text/plain": [
       "[<matplotlib.lines.Line2D at 0x2aaae1df70b8>]"
      ]
     },
     "execution_count": 41,
     "metadata": {},
     "output_type": "execute_result"
    },
    {
     "data": {
      "image/png": "[encoded data removed]",
      "text/plain": [
       "<Figure size 432x288 with 1 Axes>"
      ]
     },
     "metadata": {
      "needs_background": "light"
     },
     "output_type": "display_data"
    }
   ],
   "source": [
    "plot(L[1:]**2*bl0)"
   ]
  },
  {
   "cell_type": "code",
   "execution_count": null,
   "metadata": {},
   "outputs": [],
   "source": []
  }
 ],
 "metadata": {
  "kernelspec": {
   "display_name": "py4so",
   "language": "python",
   "name": "py4so"
  },
  "language_info": {
   "codemirror_mode": {
    "name": "ipython",
    "version": 3
   },
   "file_extension": ".py",
   "mimetype": "text/x-python",
   "name": "python",
   "nbconvert_exporter": "python",
   "pygments_lexer": "ipython3",
   "version": "3.7.2"
  }
 },
 "nbformat": 4,
 "nbformat_minor": 4
}
