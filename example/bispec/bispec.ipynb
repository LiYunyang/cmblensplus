{
 "cells": [
  {
   "cell_type": "markdown",
   "metadata": {},
   "source": [
    "### Example of computing binned reduced bispectrum"
   ]
  },
  {
   "cell_type": "code",
   "execution_count": 1,
   "metadata": {},
   "outputs": [],
   "source": [
    "# load modules\n",
    "import numpy as np\n",
    "import basic\n",
    "import curvedsky\n",
    "import cmb\n",
    "from matplotlib.pyplot import *"
   ]
  },
  {
   "cell_type": "code",
   "execution_count": 2,
   "metadata": {},
   "outputs": [],
   "source": [
    "# define parameters\n",
    "Tcmb = 2.726e6 # CMB temperature\n",
    "lmax = 1024    # maximum multipole of output normalization\n",
    "bn   = 20      # number of multipole bins"
   ]
  },
  {
   "cell_type": "code",
   "execution_count": 3,
   "metadata": {},
   "outputs": [
    {
     "name": "stderr",
     "output_type": "stream",
     "text": [
      "/global/homes/t/toshiyan/.conda/envs/loc/lib/python3.7/site-packages/ipykernel_launcher.py:2: DeprecationWarning: `np.int` is a deprecated alias for the builtin `int`. To silence this warning, use `int` by itself. Doing this will not modify any behavior and is safe. When replacing `np.int`, you may wish to use e.g. `np.int64` or `np.int32` to specify the precision. If you wish to review your current use, check the release note link for additional information.\n",
      "Deprecated in NumPy 1.20; for more details and guidance: https://numpy.org/devdocs/release/1.20.0-notes.html#deprecations\n",
      "  \n"
     ]
    }
   ],
   "source": [
    "# choose multipoles within a multipole bin\n",
    "bp = np.array([np.int(lmax*(i/bn)) for i in range(bn+1)])\n",
    "bc = (bp[1:]+bp[:-1])*.5\n",
    "sL = bp[:2]"
   ]
  },
  {
   "cell_type": "code",
   "execution_count": 4,
   "metadata": {},
   "outputs": [],
   "source": [
    "# load unlensed and lensed Cls\n",
    "ucl = cmb.read_camb_cls('../data/unlensedcls.dat',ftype='scal',output='array')[:,:lmax+1]"
   ]
  },
  {
   "cell_type": "code",
   "execution_count": 5,
   "metadata": {},
   "outputs": [],
   "source": [
    "# generate gaussian phi\n",
    "l = np.linspace(0,lmax,lmax+1)\n",
    "glm = curvedsky.utils.gauss1alm(lmax,ucl[3,:]*l**2*(l+1)**2/4.)"
   ]
  },
  {
   "cell_type": "code",
   "execution_count": 6,
   "metadata": {},
   "outputs": [],
   "source": [
    "# compute pmap = gmap + gmap**2\n",
    "plm = curvedsky.bispec.make_quad_gauss(lmax,glm)"
   ]
  },
  {
   "cell_type": "code",
   "execution_count": 7,
   "metadata": {},
   "outputs": [],
   "source": [
    "# compute binned bispectra\n",
    "bl = np.zeros((4,bn))"
   ]
  },
  {
   "cell_type": "code",
   "execution_count": 8,
   "metadata": {},
   "outputs": [],
   "source": [
    "hl = curvedsky.bispec.bispec_norm(bn,bp,bstype='equi')\n",
    "bl[0,:] = curvedsky.bispec.bispec_bin(bn,bp,lmax,plm,bstype='equi') * np.sqrt(4*np.pi)/hl"
   ]
  },
  {
   "cell_type": "code",
   "execution_count": 9,
   "metadata": {},
   "outputs": [],
   "source": [
    "hl = curvedsky.bispec.bispec_norm(bn,bp,bstype='fold')\n",
    "bl[1,:] = curvedsky.bispec.bispec_bin(bn,bp,lmax,plm,bstype='fold') * np.sqrt(4*np.pi)/hl"
   ]
  },
  {
   "cell_type": "code",
   "execution_count": 10,
   "metadata": {},
   "outputs": [],
   "source": [
    "hl = curvedsky.bispec.bispec_norm(bn,bp,bstype='sque',sL=sL)\n",
    "bl[2,:] = curvedsky.bispec.bispec_bin(bn,bp,lmax,plm,bstype='sque',sL=sL) * np.sqrt(4*np.pi)/hl"
   ]
  },
  {
   "cell_type": "code",
   "execution_count": 11,
   "metadata": {},
   "outputs": [],
   "source": [
    "hl = curvedsky.bispec.bispec_norm(bn,bp,bstype='isos')\n",
    "bl[3,:] = curvedsky.bispec.bispec_bin(bn,bp,lmax,plm,bstype='isos')* np.sqrt(4*np.pi)/hl"
   ]
  },
  {
   "cell_type": "code",
   "execution_count": 12,
   "metadata": {},
   "outputs": [
    {
     "data": {
      "text/plain": [
       "[<matplotlib.lines.Line2D at 0x15551c6e9048>]"
      ]
     },
     "execution_count": 12,
     "metadata": {},
     "output_type": "execute_result"
    },
    {
     "data": {
      "image/png": "[encoded data removed]",
      "text/plain": [
       "<Figure size 432x288 with 1 Axes>"
      ]
     },
     "metadata": {
      "needs_background": "light"
     },
     "output_type": "display_data"
    }
   ],
   "source": [
    "#yscale('log')\n",
    "s = 1.\n",
    "plot(bc,s*bl[0,:])\n",
    "plot(bc,s*bl[1,:])\n",
    "plot(bc,s*bl[2,:])\n",
    "plot(bc,s*bl[3,:])"
   ]
  },
  {
   "cell_type": "code",
   "execution_count": null,
   "metadata": {},
   "outputs": [],
   "source": []
  }
 ],
 "metadata": {
  "kernelspec": {
   "display_name": "Python 3",
   "language": "python",
   "name": "python3"
  },
  "language_info": {
   "codemirror_mode": {
    "name": "ipython",
    "version": 3
   },
   "file_extension": ".py",
   "mimetype": "text/x-python",
   "name": "python",
   "nbconvert_exporter": "python",
   "pygments_lexer": "ipython3",
   "version": "3.7.2"
  }
 },
 "nbformat": 4,
 "nbformat_minor": 4
}
