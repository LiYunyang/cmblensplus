{
 "cells": [
  {
   "cell_type": "markdown",
   "metadata": {},
   "source": [
    "### A binned bispectrum calculation in flat sky"
   ]
  },
  {
   "cell_type": "markdown",
   "metadata": {},
   "source": [
    "#### This code demonstrates how to compute the flatsky binned bispectrum from a 2D map"
   ]
  },
  {
   "cell_type": "code",
   "execution_count": 1,
   "metadata": {},
   "outputs": [],
   "source": [
    "import numpy as np\n",
    "import tqdm\n",
    "import flatsky\n",
    "import cmb\n",
    "import binning\n",
    "from matplotlib.pyplot import *"
   ]
  },
  {
   "cell_type": "code",
   "execution_count": 2,
   "metadata": {},
   "outputs": [],
   "source": [
    "# parameters\n",
    "lmax = 512\n",
    "nx, ny = 256, 256\n",
    "D  = np.array([nx,ny]) / 5.*np.pi/180.\n",
    "bn = 20\n",
    "mc = 100"
   ]
  },
  {
   "cell_type": "code",
   "execution_count": 3,
   "metadata": {},
   "outputs": [],
   "source": [
    "# binned multipoles\n",
    "bp, bc = binning.binned_ells(bn,2,lmax,'')"
   ]
  },
  {
   "cell_type": "code",
   "execution_count": 4,
   "metadata": {},
   "outputs": [],
   "source": [
    "# load unlensed and lensed Cls\n",
    "l = np.linspace(0,lmax,lmax+1)\n",
    "lcl = cmb.read_camb_cls('../data/lensedcls.dat',ftype='lens',output='array')[:,:lmax+1]"
   ]
  },
  {
   "cell_type": "code",
   "execution_count": 5,
   "metadata": {},
   "outputs": [],
   "source": [
    "bf1 = flatsky.bispec.binfilter(nx,ny,D,bp)\n",
    "bfs = np.array((bf1,bf1,bf1)) # equiratellal shape"
   ]
  },
  {
   "cell_type": "code",
   "execution_count": 6,
   "metadata": {},
   "outputs": [],
   "source": [
    "norm = flatsky.bispec.bispec_norm_1d(nx,ny,D,bfs) # normalization of the binned bispectrum estimator"
   ]
  },
  {
   "cell_type": "code",
   "execution_count": 7,
   "metadata": {},
   "outputs": [
    {
     "name": "stderr",
     "output_type": "stream",
     "text": [
      "100%|██████████| 100/100 [00:53<00:00,  1.87it/s]\n"
     ]
    }
   ],
   "source": [
    "# loop over MC realizations\n",
    "Bl = np.zeros((mc,bn))\n",
    "\n",
    "for i in tqdm.tqdm(range(mc)):\n",
    "    \n",
    "    # generate Fourier mode on 2d grids\n",
    "    tlm  = flatsky.utils.gauss1alm(nx,ny,D,2,lmax,lcl[0,:])\n",
    "\n",
    "    # compute a non-Gaussian map\n",
    "    tmap = flatsky.utils.alm2map(nx,ny,D,tlm)\n",
    "    Tlm  = flatsky.utils.map2alm(nx,ny,D,tmap**2)\n",
    "\n",
    "    # compute bispectrum\n",
    "    Tlms = np.array((tlm,tlm,Tlm))    \n",
    "    Bl[i,:] = flatsky.bispec.bispec_bin_1d(nx,ny,D,bfs,norm,Tlms)\n"
   ]
  },
  {
   "cell_type": "code",
   "execution_count": 8,
   "metadata": {},
   "outputs": [
    {
     "data": {
      "text/plain": [
       "<matplotlib.legend.Legend at 0x15550d883160>"
      ]
     },
     "execution_count": 8,
     "metadata": {},
     "output_type": "execute_result"
    },
    {
     "data": {
      "image/png": "[encoded data removed]",
      "text/plain": [
       "<Figure size 432x288 with 1 Axes>"
      ]
     },
     "metadata": {
      "needs_background": "light"
     },
     "output_type": "display_data"
    }
   ],
   "source": [
    "N = 4\n",
    "mBks = np.mean(bc[None,:]**N*Bl,axis=0)\n",
    "vBks = np.std(bc[None,:]**N*Bl,axis=0)\n",
    "errorbar(bc,mBks,yerr=vBks/np.sqrt(mc),fmt='o',label='sim')\n",
    "plot(l,2*l**N*lcl[0]**2,label='theory')\n",
    "legend()"
   ]
  },
  {
   "cell_type": "code",
   "execution_count": null,
   "metadata": {},
   "outputs": [],
   "source": []
  }
 ],
 "metadata": {
  "kernelspec": {
   "display_name": "py4so",
   "language": "python",
   "name": "py4so"
  },
  "language_info": {
   "codemirror_mode": {
    "name": "ipython",
    "version": 3
   },
   "file_extension": ".py",
   "mimetype": "text/x-python",
   "name": "python",
   "nbconvert_exporter": "python",
   "pygments_lexer": "ipython3",
   "version": "3.7.2"
  }
 },
 "nbformat": 4,
 "nbformat_minor": 4
}
