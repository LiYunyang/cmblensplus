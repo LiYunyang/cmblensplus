{
 "cells": [
  {
   "cell_type": "markdown",
   "metadata": {},
   "source": [
    "#### A quick demonstration of imaginary lensing reconstruction in fullsky"
   ]
  },
  {
   "cell_type": "code",
   "execution_count": 1,
   "metadata": {},
   "outputs": [],
   "source": [
    "import numpy as np, basic, curvedsky as cs, plottools as pl, healpy as hp, binning as bn, cmb\n",
    "from matplotlib.pyplot import *"
   ]
  },
  {
   "cell_type": "code",
   "execution_count": 2,
   "metadata": {},
   "outputs": [],
   "source": [
    "def sim(lmax,rlmin,rlmax,lcl,Ag,nl):\n",
    "    # gaussian alms are generated, and the reconstructed cls are equal to the normalization\n",
    "    Talm, Ealm, Balm = cs.utils.gaussTEB(lmax,lcl[0,:],lcl[1,:],lcl[2,:],lcl[3,:])\n",
    "    # add noise and filtering (temp)\n",
    "    Talm += cs.utils.gauss1alm(lmax,nl[0,:])\n",
    "    Ealm += cs.utils.gauss1alm(lmax,nl[1,:])\n",
    "    Balm += cs.utils.gauss1alm(lmax,nl[2,:])\n",
    "    # simple diagonal c-inverse\n",
    "    Fl = np.zeros((3,lmax+1,lmax+1))\n",
    "    for l in range(rlmin,rlmax):\n",
    "        Fl[:,l,0:l+1] = 1./ocl[:3,l,None]\n",
    "    Talm *= Fl[0,:,:]\n",
    "    Ealm *= Fl[1,:,:]\n",
    "    Balm *= Fl[2,:,:]\n",
    "    # compute unnormalized estiamtors\n",
    "    glm, clm = {}, {}\n",
    "    #glm['TE'] = cs.rec_iamp.qte(lmax,rlmin,rlmax,lcl[3,:],Talm,Ealm)\n",
    "    #glm['TB'] = cs.rec_iamp.qtb(lmax,rlmin,rlmax,lcl[3,:],Talm,Balm)\n",
    "    #glm['EE'] = cs.rec_iamp.qee(lmax,rlmin,rlmax,lcl[1,:],Ealm,Ealm)\n",
    "    glm['EB'] = cs.rec_iamp.qeb(lmax,rlmin,rlmax,lcl[1,:],Ealm,Balm)\n",
    "    #glm['BB'] = cs.rec_iamp.qbb(lmax,rlmin,rlmax,lcl[1,:],Balm,Balm)\n",
    "    # compute auto and cross spectra\n",
    "    gl = {}\n",
    "    #for qest in ['TE','TB','EE','EB','BB']:\n",
    "    for qest in ['EB']:\n",
    "        gl[qest] = cs.utils.alm2cl(lmax,Ag[qest][:,None]*glm[qest])\n",
    "    return gl['EB']\n",
    "    #return gl['TE'], gl['TB'], gl['EE'], gl['EB'], gl['BB'], cl['TE'], cl['TB'], cl['EE'], cl['EB'], cl['BB']"
   ]
  },
  {
   "cell_type": "code",
   "execution_count": 3,
   "metadata": {},
   "outputs": [],
   "source": [
    "# define parameters\n",
    "Tcmb  = 2.726e6    # CMB temperature\n",
    "lmax  = 2000       # maximum multipole of output normalization\n",
    "rlmin, rlmax = 100, lmax  # reconstruction multipole range\n",
    "sig   = 10.\n",
    "ac2rad = np.pi/180./60.\n",
    "L = np.linspace(0,lmax,lmax+1)\n",
    "# for sim\n",
    "simn = 1"
   ]
  },
  {
   "cell_type": "code",
   "execution_count": 4,
   "metadata": {},
   "outputs": [],
   "source": [
    "#quad = ['TE','TB','EE','EB','BB']\n",
    "quad = ['EB']\n",
    "#color = ['c','m','g','b','y']\n",
    "color = ['m']"
   ]
  },
  {
   "cell_type": "markdown",
   "metadata": {},
   "source": [
    "#### Load unlensed and lensed Cls"
   ]
  },
  {
   "cell_type": "code",
   "execution_count": 5,
   "metadata": {},
   "outputs": [],
   "source": [
    "lcl = cmb.read_camb_cls('../data/lensedcls.dat',ftype='lens',output='array')[:,:lmax+1]\n",
    "nl  = np.zeros((4,lmax+1))\n",
    "nl[0,:] = (sig*ac2rad/Tcmb)**2\n",
    "nl[1,:] = 2*nl[0,:]\n",
    "nl[2,:] = 2*nl[0,:]\n",
    "ocl = lcl + nl"
   ]
  },
  {
   "cell_type": "markdown",
   "metadata": {},
   "source": [
    "#### Calculate normalizations"
   ]
  },
  {
   "cell_type": "code",
   "execution_count": 6,
   "metadata": {},
   "outputs": [],
   "source": [
    "Ag = {}\n",
    "#Ag['TE'] = cs.norm_imag.qte(rlmax,rlmin,rlmax,lcl[3,:],ocl[0,:],ocl[1,:])[0]\n",
    "#Ag['TB'] = cs.norm_imag.qtb(rlmax,rlmin,rlmax,lcl[3,:],ocl[0,:],ocl[2,:])[0]\n",
    "#Ag['EE'] = cs.norm_imag.qee(rlmax,rlmin,rlmax,lcl[1,:],ocl[1,:])[0]\n",
    "Ag['EB'] = cs.norm_imag.qeb('amp',rlmax,rlmin,rlmax,lcl[1,:],ocl[1,:],ocl[2,:])[0]\n",
    "#Ag['BB'] = cs.norm_imag.qbb(rlmax,rlmin,rlmax,lcl[1,:],ocl[2,:])[0]"
   ]
  },
  {
   "cell_type": "markdown",
   "metadata": {},
   "source": [
    "#### Running simulation"
   ]
  },
  {
   "cell_type": "code",
   "execution_count": 7,
   "metadata": {},
   "outputs": [
    {
     "name": "stdout",
     "output_type": "stream",
     "text": [
      "0\n"
     ]
    }
   ],
   "source": [
    "cl = np.zeros((simn,1,lmax+1))\n",
    "for i in range(simn):\n",
    "    print(i)\n",
    "    cl[i,:,:] = sim(lmax,rlmin,rlmax,lcl,Ag,nl)"
   ]
  },
  {
   "cell_type": "code",
   "execution_count": 8,
   "metadata": {},
   "outputs": [],
   "source": [
    "mb = bn.multipole_binning(20,lmax=lmax)\n",
    "cls = bn.binning(cl,mb)\n",
    "mgl = np.mean(cls,axis=0)\n",
    "vgl = np.std(cls,axis=0)"
   ]
  },
  {
   "cell_type": "code",
   "execution_count": 9,
   "metadata": {},
   "outputs": [],
   "source": [
    "cli = np.mean(cl,axis=0)"
   ]
  },
  {
   "cell_type": "code",
   "execution_count": 10,
   "metadata": {},
   "outputs": [
    {
     "data": {
      "text/plain": [
       "<matplotlib.legend.Legend at 0x15551c6ff080>"
      ]
     },
     "execution_count": 10,
     "metadata": {},
     "output_type": "execute_result"
    },
    {
     "data": {
      "image/png": "[encoded data removed]",
      "text/plain": [
       "<Figure size 720x432 with 1 Axes>"
      ]
     },
     "metadata": {
      "needs_background": "light"
     },
     "output_type": "display_data"
    }
   ],
   "source": [
    "s = (L*(L+1))**2/2/np.pi\n",
    "pl.plot_1dstyle(fsize=[10,6],xmin=1,xmax=2048,xlog=True,ylog=True)\n",
    "for qi, (q,c) in enumerate(zip(quad,color)):\n",
    "#for qi, q in enumerate(['EB']):\n",
    "    plot(s*Ag[q],label=q,color=c,ls='--')\n",
    "    plot(s*cli[qi],color=c,ls='-')\n",
    "#plot(cl[q],label=q)\n",
    "    #errorbar(mb.bc-5,mgl[qi,:],yerr=vgl[qi,:],fmt='o',label=q)\n",
    "axhline(0,color='k',ls='--')\n",
    "legend()"
   ]
  },
  {
   "cell_type": "code",
   "execution_count": null,
   "metadata": {},
   "outputs": [],
   "source": []
  }
 ],
 "metadata": {
  "kernelspec": {
   "display_name": "py4so",
   "language": "python",
   "name": "py4so"
  },
  "language_info": {
   "codemirror_mode": {
    "name": "ipython",
    "version": 3
   },
   "file_extension": ".py",
   "mimetype": "text/x-python",
   "name": "python",
   "nbconvert_exporter": "python",
   "pygments_lexer": "ipython3",
   "version": "3.7.2"
  }
 },
 "nbformat": 4,
 "nbformat_minor": 4
}
