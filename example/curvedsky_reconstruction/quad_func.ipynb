{
 "cells": [
  {
   "cell_type": "markdown",
   "metadata": {},
   "source": [
    "#### A quick demonstration of bias-hardened lensing/patchy tau/point source reconstruction in fullsky\n",
    "#### - this code shows how to compute the estiamtors, and output their power spectra"
   ]
  },
  {
   "cell_type": "code",
   "execution_count": 1,
   "metadata": {},
   "outputs": [],
   "source": [
    "import numpy as np, basic, curvedsky, plottools as pl, pickle, quad_func\n",
    "from matplotlib.pyplot import *"
   ]
  },
  {
   "cell_type": "code",
   "execution_count": 2,
   "metadata": {},
   "outputs": [],
   "source": [
    "# define parameters\n",
    "Tcmb  = 2.726e6    # CMB temperature\n",
    "lmax  = 2048       # maximum multipole of output normalization\n",
    "rlmin, rlmax = 100, lmax  # reconstruction multipole range\n",
    "sig   = 50.\n",
    "ac2rad = np.pi/180./60.\n",
    "L = np.linspace(0,lmax,lmax+1)"
   ]
  },
  {
   "cell_type": "markdown",
   "metadata": {},
   "source": [
    "#### load unlensed and lensed Cls"
   ]
  },
  {
   "cell_type": "code",
   "execution_count": 3,
   "metadata": {},
   "outputs": [],
   "source": [
    "lcl = basic.aps.read_cambcls('../data/lensedcls.dat',2,lmax,4,bb=True)/Tcmb**2\n",
    "nl  = np.zeros((4,lmax+1))\n",
    "nl[0,:] = (sig*ac2rad/Tcmb)**2\n",
    "nl[1,:] = 2*nl[0,:]\n",
    "nl[2,:] = 2*nl[0,:]\n",
    "ocl = lcl + nl"
   ]
  },
  {
   "cell_type": "markdown",
   "metadata": {},
   "source": [
    "#### calculate normalizations"
   ]
  },
  {
   "cell_type": "code",
   "execution_count": 4,
   "metadata": {},
   "outputs": [],
   "source": [
    "falm = {}\n",
    "falm['T'] = ['','test0.pkl','test1.pkl']"
   ]
  },
  {
   "cell_type": "code",
   "execution_count": 5,
   "metadata": {},
   "outputs": [],
   "source": [
    "# generate CMB alms \n",
    "Talm0 = curvedsky.utils.gauss1alm(lmax,lcl[0,:])\n",
    "Talm1 = curvedsky.utils.gauss1alm(lmax,lcl[0,:])\n",
    "Talm0 += curvedsky.utils.gauss1alm(lmax,nl[0,:])\n",
    "Talm1 += curvedsky.utils.gauss1alm(lmax,nl[0,:])\n",
    "pickle.dump((Talm0),open(falm['T'][1],\"wb\"),protocol=pickle.HIGHEST_PROTOCOL)\n",
    "pickle.dump((Talm1),open(falm['T'][2],\"wb\"),protocol=pickle.HIGHEST_PROTOCOL)"
   ]
  },
  {
   "cell_type": "code",
   "execution_count": 12,
   "metadata": {},
   "outputs": [],
   "source": [
    "qobj = quad_func.quad(root='/global/homes/t/toshiyan/trash/',rlz=[0,1],qtype='tau',bhe=['lens'],\\\n",
    "                      lcl=lcl,ocl=ocl,ifl=ocl,falm=falm,rlmin=rlmin,rlmax=rlmax,n0max=1,nside=1024,qlist=['TT'],ids=['0','1'])"
   ]
  },
  {
   "cell_type": "code",
   "execution_count": 13,
   "metadata": {},
   "outputs": [
    {
     "name": "stderr",
     "output_type": "stream",
     "text": [
      "N0 bias::   0%|                                                               | 0/1 [00:00<?, ?it/s]\n",
      "each quad-comb::   0%|                                                        | 0/1 [00:00<?, ?it/s]\u001b[A\n",
      "each quad-comb:: 100%|████████████████████████████████████████████████| 1/1 [00:42<00:00, 42.34s/it]\u001b[A\n",
      "N0 bias:: 100%|███████████████████████████████████████████████████████| 1/1 [00:42<00:00, 42.67s/it]\u001b[A\n"
     ]
    }
   ],
   "source": [
    "qobj.qrec_flow(run=['norm','n0'])"
   ]
  },
  {
   "cell_type": "code",
   "execution_count": 14,
   "metadata": {},
   "outputs": [
    {
     "data": {
      "text/plain": [
       "[<matplotlib.lines.Line2D at 0x2aaae6ed47b8>]"
      ]
     },
     "execution_count": 14,
     "metadata": {},
     "output_type": "execute_result"
    },
    {
     "data": {
      "image/png": "[encoded data removed]",
      "text/plain": [
       "<Figure size 432x288 with 1 Axes>"
      ]
     },
     "metadata": {
      "needs_background": "light"
     },
     "output_type": "display_data"
    }
   ],
   "source": [
    "pl.plot_1dstyle()\n",
    "l, al = np.loadtxt(qobj.f['TT'].al,unpack=True,usecols=(0,1))\n",
    "l, n0 = np.loadtxt(qobj.f['TT'].n0bs,unpack=True,usecols=(0,1))\n",
    "plot(l,n0)\n",
    "plot(l,al)"
   ]
  },
  {
   "cell_type": "code",
   "execution_count": null,
   "metadata": {},
   "outputs": [],
   "source": []
  }
 ],
 "metadata": {
  "kernelspec": {
   "display_name": "py4so",
   "language": "python",
   "name": "py4so"
  },
  "language_info": {
   "codemirror_mode": {
    "name": "ipython",
    "version": 3
   },
   "file_extension": ".py",
   "mimetype": "text/x-python",
   "name": "python",
   "nbconvert_exporter": "python",
   "pygments_lexer": "ipython3",
   "version": "3.7.2"
  }
 },
 "nbformat": 4,
 "nbformat_minor": 4
}
