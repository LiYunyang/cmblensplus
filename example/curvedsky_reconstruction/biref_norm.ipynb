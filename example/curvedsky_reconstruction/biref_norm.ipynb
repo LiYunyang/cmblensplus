{
 "cells": [
  {
   "cell_type": "markdown",
   "metadata": {},
   "source": [
    "#### Forecast of the nosie spectrum of the cosmic birefringence reconstruction\n",
    "#### - this code was used for forecasting CMB-HD white paper"
   ]
  },
  {
   "cell_type": "code",
   "execution_count": 1,
   "metadata": {},
   "outputs": [],
   "source": [
    "# load modules\n",
    "import numpy as np\n",
    "from matplotlib.pyplot import *\n",
    "import basic\n",
    "import curvedsky\n",
    "import plottools as pl"
   ]
  },
  {
   "cell_type": "markdown",
   "metadata": {},
   "source": [
    "Define parameters"
   ]
  },
  {
   "cell_type": "code",
   "execution_count": 2,
   "metadata": {},
   "outputs": [],
   "source": [
    "ilmax = 3000 # maximum multipole of input spectrum\n",
    "olmax = 2048 # maximum multipole of reconstruction noise spectrum\n",
    "rlmin = 2 # minimum multipole of CMB for reconstruction\n",
    "rlmax = ilmax\n",
    "# set multipole arrays\n",
    "l = np.linspace(0,ilmax,ilmax+1)\n",
    "L = np.linspace(0,olmax,olmax+1)"
   ]
  },
  {
   "cell_type": "markdown",
   "metadata": {},
   "source": [
    "Load unlensed and lensed Cls"
   ]
  },
  {
   "cell_type": "code",
   "execution_count": 3,
   "metadata": {},
   "outputs": [],
   "source": [
    "# load lensed Cls\n",
    "lcl = basic.aps.read_cambcls('../data/lensedcls.dat',2,ilmax,4,bb=True)/2.72e6**2"
   ]
  },
  {
   "cell_type": "code",
   "execution_count": 4,
   "metadata": {},
   "outputs": [],
   "source": [
    "# set observed Cls\n",
    "nl = np.zeros((4,ilmax+1))\n",
    "nl[0,:] = (10.*np.pi/10800./2.72e6)**2 * np.exp(l*(l+1.)*(1.*np.pi/10800.)**2/8./np.log(2.))\n",
    "nl[1,:] = 2*nl[0,:]\n",
    "nl[2,:] = 2*nl[0,:]\n",
    "ocl = lcl + nl"
   ]
  },
  {
   "cell_type": "code",
   "execution_count": 5,
   "metadata": {},
   "outputs": [],
   "source": [
    "# compute the reconstruction noise spectrum\n",
    "Al = {}\n",
    "Al['TE'] = curvedsky.norm_quad.qte('rot',olmax,rlmin,rlmax,lcl[3,:rlmax+1],ocl[0,:rlmax+1],ocl[1,:rlmax+1])[0]\n",
    "Al['TB'] = curvedsky.norm_quad.qtb('rot',olmax,rlmin,rlmax,lcl[3,:rlmax+1],ocl[0,:rlmax+1],ocl[2,:rlmax+1])[0]\n",
    "Al['EE'] = curvedsky.norm_quad.qee('rot',olmax,rlmin,rlmax,lcl[1,:rlmax+1],ocl[1,:rlmax+1])[0]\n",
    "Al['EB'] = curvedsky.norm_quad.qeb('rot',olmax,rlmin,rlmax,lcl[1,:rlmax+1],ocl[1,:rlmax+1],ocl[2,:rlmax+1])[0]\n",
    "Al['BB'] = curvedsky.norm_quad.qbb('rot',olmax,rlmin,rlmax,lcl[2,:rlmax+1],ocl[2,:rlmax+1])[0]"
   ]
  },
  {
   "cell_type": "code",
   "execution_count": 8,
   "metadata": {},
   "outputs": [
    {
     "data": {
      "text/plain": [
       "<matplotlib.legend.Legend at 0x2aaae7218fd0>"
      ]
     },
     "execution_count": 8,
     "metadata": {},
     "output_type": "execute_result"
    },
    {
     "data": {
      "image/png": "[encoded data removed]",
      "text/plain": [
       "<Figure size 432x288 with 1 Axes>"
      ]
     },
     "metadata": {
      "needs_background": "light"
     },
     "output_type": "display_data"
    }
   ],
   "source": [
    "pl.plot_1dstyle(xlog=True,ylog=True)\n",
    "for q in ['TE','TB','EE','EB','BB']:\n",
    "    plot(Al[q],label=q)\n",
    "legend(loc=0)"
   ]
  },
  {
   "cell_type": "code",
   "execution_count": null,
   "metadata": {},
   "outputs": [],
   "source": []
  }
 ],
 "metadata": {
  "kernelspec": {
   "display_name": "Python 3",
   "language": "python",
   "name": "python3"
  },
  "language_info": {
   "codemirror_mode": {
    "name": "ipython",
    "version": 3
   },
   "file_extension": ".py",
   "mimetype": "text/x-python",
   "name": "python",
   "nbconvert_exporter": "python",
   "pygments_lexer": "ipython3",
   "version": "3.7.2"
  }
 },
 "nbformat": 4,
 "nbformat_minor": 4
}
