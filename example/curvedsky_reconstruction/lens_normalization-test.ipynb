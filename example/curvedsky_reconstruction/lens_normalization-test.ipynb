{
 "cells": [
  {
   "cell_type": "markdown",
   "metadata": {},
   "source": [
    "# A simple example of lensing estimator modules\n",
    "This code compute normalization and power spectrum of quadratic estiamtors"
   ]
  },
  {
   "cell_type": "code",
   "execution_count": 1,
   "metadata": {},
   "outputs": [],
   "source": [
    "# external\n",
    "import numpy as np\n",
    "from matplotlib.pyplot import *\n",
    "import tqdm \n",
    "# from cmblensplus/wrap/\n",
    "import basic\n",
    "import curvedsky as cs\n",
    "# from cmblensplus/utils/\n",
    "import plottools as pl\n",
    "import binning as bn"
   ]
  },
  {
   "cell_type": "markdown",
   "metadata": {},
   "source": [
    "First define parameters"
   ]
  },
  {
   "cell_type": "code",
   "execution_count": 2,
   "metadata": {},
   "outputs": [],
   "source": [
    "Tcmb  = 2.726e6    # CMB temperature\n",
    "Lmax  = 1024       # maximum multipole of output normalization\n",
    "rlmin, rlmax = 100, 1024  # CMB multipole range for reconstruction\n",
    "L = np.linspace(0,Lmax,Lmax+1)\n",
    "Lfac = (L*(L+1.))**2/(2*np.pi)\n",
    "nside = 1024\n",
    "qlist = ['TT','TE','EE','TB','EB'] # list of quadratic estimators for MV in simulation"
   ]
  },
  {
   "cell_type": "markdown",
   "metadata": {},
   "source": [
    "Load arrays of CMB unlensed and lensed Cls. Unlensed Cls are not used for now. The Cls should not be multiplied by any factors and should not have units.  "
   ]
  },
  {
   "cell_type": "code",
   "execution_count": 3,
   "metadata": {},
   "outputs": [],
   "source": [
    "# lcl is an array of shape [0:4,0:rlmax+1] and lcl[0,:] = TT, lcl[1,:] = EE, lcl[2,:] = BB, and lcl[3,:] = TE\n",
    "lcl = basic.aps.read_cambcls('../data/lensedcls.dat',2,rlmax,4,bb=True)/Tcmb**2 # TT, EE, BB, TE"
   ]
  },
  {
   "cell_type": "markdown",
   "metadata": {},
   "source": [
    "Define observed CMB cls. Here, no CMB noise."
   ]
  },
  {
   "cell_type": "code",
   "execution_count": 4,
   "metadata": {},
   "outputs": [],
   "source": [
    "ocl = lcl # observed Cl (here, no CMB noise)"
   ]
  },
  {
   "cell_type": "markdown",
   "metadata": {},
   "source": [
    "### Compute normalization"
   ]
  },
  {
   "cell_type": "markdown",
   "metadata": {},
   "source": [
    "QDO below specifies which normalizations will be computed: TT, TE, EE, TB, EB, BB (currently BB is ignored even if you set True)"
   ]
  },
  {
   "cell_type": "markdown",
   "metadata": {},
   "source": [
    "MV is also automatically computed from these specified estimators"
   ]
  },
  {
   "cell_type": "code",
   "execution_count": 5,
   "metadata": {},
   "outputs": [],
   "source": [
    "QDO = [True,True,True,True,True,False] # this means that TT, TE, EE, TB and EB are used for MV estimator"
   ]
  },
  {
   "cell_type": "markdown",
   "metadata": {},
   "source": [
    "\"Wg\" (\"Wc\") below is the optimal weight for constructing the MV estimator; $$\\phi^{MV} = A^{MV}\\sum_q W_q \\phi^q$$ where $W$ is Wg (Wc) and $q = TT, TE, \\dots$. \n",
    "BB is not output, and the array has 6 normalizations (TT, TE, EE, TB, EB and MV)"
   ]
  },
  {
   "cell_type": "code",
   "execution_count": 6,
   "metadata": {},
   "outputs": [],
   "source": [
    "Ag, Ac, Wg, Wc = cs.norm_quad.qall('lens',QDO,Lmax,rlmin,rlmax,lcl,ocl)"
   ]
  },
  {
   "cell_type": "markdown",
   "metadata": {},
   "source": [
    "### Comparison with a simple simulation"
   ]
  },
  {
   "cell_type": "code",
   "execution_count": 7,
   "metadata": {},
   "outputs": [],
   "source": [
    "# diagonal C^-1 filtering\n",
    "Fl = np.zeros((3,rlmax+1,rlmax+1)) # the first index means 0=T, 1=E, 2=B\n",
    "for l in range(rlmin,rlmax+1):\n",
    "    Fl[:,l,0:l+1] = 1./ocl[:3,l,None]"
   ]
  },
  {
   "cell_type": "code",
   "execution_count": 8,
   "metadata": {},
   "outputs": [
    {
     "name": "stderr",
     "output_type": "stream",
     "text": [
      "100%|██████████| 200/200 [2:56:23<00:00, 52.92s/it]  \n"
     ]
    }
   ],
   "source": [
    "simn = 200\n",
    "cl = np.zeros((simn,2,Lmax+1))\n",
    "for i in tqdm.tqdm(range(simn)):\n",
    "    Talm, Ealm, Balm = cs.utils.gaussTEB(rlmax,lcl[0,:],lcl[1,:],lcl[2,:],lcl[3,:])\n",
    "    # multiply filter to alms\n",
    "    Talm *= Fl[0,:,:]\n",
    "    Ealm *= Fl[1,:,:]\n",
    "    Balm *= Fl[2,:,:]\n",
    "    glm, clm = {}, {}\n",
    "    glm['TT'], clm['TT'] = cs.rec_lens.qtt(Lmax,rlmin,rlmax,lcl[0,:],Talm,Talm,nside_t=nside)\n",
    "    glm['TE'], clm['TE'] = cs.rec_lens.qte(Lmax,rlmin,rlmax,lcl[3,:],Talm,Ealm,nside_t=nside)\n",
    "    glm['EE'], clm['EE'] = cs.rec_lens.qee(Lmax,rlmin,rlmax,lcl[1,:],Ealm,Ealm,nside_t=nside)\n",
    "    glm['TB'], clm['TB'] = cs.rec_lens.qtb(Lmax,rlmin,rlmax,lcl[3,:],Talm,Balm,nside_t=nside)\n",
    "    glm['EB'], clm['EB'] = cs.rec_lens.qeb(Lmax,rlmin,rlmax,lcl[1,:],Ealm,Balm,nside_t=nside)\n",
    "    for qi, q in enumerate(qlist):\n",
    "        glm[q] *= Ag[qi,:,None]\n",
    "        clm[q] *= Ac[qi,:,None]\n",
    "    # combine each quadratic estimator to the MV estimator\n",
    "    glm['MV'], clm['MV'] = 0., 0.\n",
    "    for qi, q in enumerate(qlist):\n",
    "        glm['MV'] += Wg[qi,:,None]*glm[q]\n",
    "        clm['MV'] += Wc[qi,:,None]*clm[q]\n",
    "    glm['MV'] *= Ag[5,:,None]\n",
    "    clm['MV'] *= Ac[5,:,None]\n",
    "    # compute cl of the MV estimator\n",
    "    cl[i,0,:] = cs.utils.alm2cl(Lmax,glm['MV'])\n",
    "    cl[i,1,:] = cs.utils.alm2cl(Lmax,clm['MV'])"
   ]
  },
  {
   "cell_type": "code",
   "execution_count": 9,
   "metadata": {},
   "outputs": [
    {
     "name": "stderr",
     "output_type": "stream",
     "text": [
      "/global/homes/t/toshiyan/.conda/envs/loc/lib/python3.7/site-packages/ipykernel_launcher.py:4: RuntimeWarning: invalid value encountered in true_divide\n",
      "  after removing the cwd from sys.path.\n"
     ]
    },
    {
     "data": {
      "text/plain": [
       "<matplotlib.legend.Legend at 0x2aaae8b91eb8>"
      ]
     },
     "execution_count": 9,
     "metadata": {},
     "output_type": "execute_result"
    },
    {
     "data": {
      "image/png": "[encoded data removed]",
      "text/plain": [
       "<Figure size 504x288 with 1 Axes>"
      ]
     },
     "metadata": {
      "needs_background": "light"
     },
     "output_type": "display_data"
    }
   ],
   "source": [
    "# plot spectra (gradient)\n",
    "mb = bn.multipole_binning(200,lmin=4,lmax=Lmax)\n",
    "mcl = np.mean(cl,axis=0)\n",
    "mcb = bn.binning(mcl[0,:]/Ag[5,:],mb)\n",
    "Ab = bn.binning(Ag[5,:],mb)\n",
    "pl.plot_1dstyle(fsize=[7,4],xmin=2,xmax=Lmax,ymin=.96,ymax=1.04,grid=True,ylab=r'ratio')\n",
    "for qi, (c, q) in enumerate([('k','MV')]):\n",
    "    plot(mb.bc,mcb,color=c,ls='-',label=q)\n",
    "legend()"
   ]
  },
  {
   "cell_type": "code",
   "execution_count": null,
   "metadata": {},
   "outputs": [],
   "source": []
  }
 ],
 "metadata": {
  "kernelspec": {
   "display_name": "Python 3",
   "language": "python",
   "name": "python3"
  },
  "language_info": {
   "codemirror_mode": {
    "name": "ipython",
    "version": 3
   },
   "file_extension": ".py",
   "mimetype": "text/x-python",
   "name": "python",
   "nbconvert_exporter": "python",
   "pygments_lexer": "ipython3",
   "version": "3.7.2"
  }
 },
 "nbformat": 4,
 "nbformat_minor": 4
}
