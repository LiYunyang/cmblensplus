{
 "cells": [
  {
   "cell_type": "markdown",
   "metadata": {},
   "source": [
    "# A simple example of lensing estimator modules\n",
    "This code compute normalization and power spectrum of quadratic estiamtors"
   ]
  },
  {
   "cell_type": "code",
   "execution_count": 1,
   "metadata": {},
   "outputs": [],
   "source": [
    "# external\n",
    "import numpy as np\n",
    "from matplotlib.pyplot import *\n",
    "import tqdm \n",
    "# from cmblensplus/wrap/\n",
    "import basic\n",
    "import curvedsky as cs\n",
    "# from cmblensplus/utils/\n",
    "import plottools as pl\n",
    "import binning as bn\n",
    "import cmb"
   ]
  },
  {
   "cell_type": "markdown",
   "metadata": {},
   "source": [
    "First define parameters"
   ]
  },
  {
   "cell_type": "code",
   "execution_count": 2,
   "metadata": {},
   "outputs": [],
   "source": [
    "Tcmb  = 2.726e6    # CMB temperature\n",
    "Lmax  = 512       # maximum multipole of output normalization\n",
    "rlmin, rlmax = 100, Lmax  # CMB multipole range for reconstruction\n",
    "L = np.linspace(0,Lmax,Lmax+1)\n",
    "Lfac = (L*(L+1.))**2/(2*np.pi)\n",
    "nside = 1024\n",
    "qlist = ['TT','TE','EE','TB','EB'] # list of quadratic estimators for MV in simulation\n",
    "#qlist = ['EB']\n",
    "qid = {'TT':0,'TE':1,'EE':2,'TB':3,'EB':4,'MV':5}\n",
    "simn = 200"
   ]
  },
  {
   "cell_type": "markdown",
   "metadata": {},
   "source": [
    "Load arrays of CMB unlensed and lensed Cls. Unlensed Cls are not used for now. The Cls should not be multiplied by any factors and should not have units.  "
   ]
  },
  {
   "cell_type": "code",
   "execution_count": 3,
   "metadata": {},
   "outputs": [],
   "source": [
    "# lcl is an array of shape [0:4,0:rlmax+1] and lcl[0,:] = TT, lcl[1,:] = EE, lcl[2,:] = BB, and lcl[3,:] = TE\n",
    "lcl = cmb.read_camb_cls('../data/lensedcls.dat',ftype='lens',output='array')[:,:rlmax+1] # TT, EE, BB, TE"
   ]
  },
  {
   "cell_type": "markdown",
   "metadata": {},
   "source": [
    "Define observed CMB cls. Here, no CMB noise."
   ]
  },
  {
   "cell_type": "code",
   "execution_count": 4,
   "metadata": {},
   "outputs": [],
   "source": [
    "ocl = lcl.copy() # observed Cl (here, no CMB noise)"
   ]
  },
  {
   "cell_type": "code",
   "execution_count": 5,
   "metadata": {},
   "outputs": [],
   "source": [
    "lcl[2] = 0. # no primordial B"
   ]
  },
  {
   "cell_type": "markdown",
   "metadata": {},
   "source": [
    "### Compute normalization"
   ]
  },
  {
   "cell_type": "markdown",
   "metadata": {},
   "source": [
    "QDO below specifies which normalizations will be computed: TT, TE, EE, TB, EB, BB (currently BB is ignored even if you set True)"
   ]
  },
  {
   "cell_type": "markdown",
   "metadata": {},
   "source": [
    "MV is also automatically computed from these specified estimators"
   ]
  },
  {
   "cell_type": "code",
   "execution_count": 6,
   "metadata": {},
   "outputs": [],
   "source": [
    "QDO = [True,True,True,True,True,False] # this means that TT, TE, EE, TB and EB are used for MV estimator"
   ]
  },
  {
   "cell_type": "markdown",
   "metadata": {},
   "source": [
    "\"Wg\" (\"Wc\") below is the optimal weight for constructing the MV estimator; $$\\phi^{MV} = A^{MV}\\sum_q W_q \\phi^q$$ where $W$ is Wg (Wc) and $q = TT, TE, \\dots$. \n",
    "BB is not output, and the array has 6 normalizations (TT, TE, EE, TB, EB and MV)"
   ]
  },
  {
   "cell_type": "code",
   "execution_count": 7,
   "metadata": {},
   "outputs": [],
   "source": [
    "Ag, Ac, Wg, Wc = cs.norm_quad.qall('lens',QDO,Lmax,rlmin,rlmax,lcl,ocl)"
   ]
  },
  {
   "cell_type": "markdown",
   "metadata": {},
   "source": [
    "### Comparison with a simple simulation"
   ]
  },
  {
   "cell_type": "code",
   "execution_count": 8,
   "metadata": {},
   "outputs": [],
   "source": [
    "# diagonal C^-1 filtering\n",
    "Fl = np.zeros((3,rlmax+1,rlmax+1)) # the first index means 0=T, 1=E, 2=B\n",
    "for l in range(rlmin,rlmax+1):\n",
    "    Fl[:,l,0:l+1] = 1./ocl[:3,l,None]"
   ]
  },
  {
   "cell_type": "code",
   "execution_count": 9,
   "metadata": {},
   "outputs": [],
   "source": [
    "cl = {q: np.zeros((simn,2,Lmax+1)) for q in (qlist+['MV']) }\n",
    "#CL = {q: np.zeros((simn,Lmax+1)) for q in ['TT','EE','BB'] }"
   ]
  },
  {
   "cell_type": "code",
   "execution_count": 10,
   "metadata": {},
   "outputs": [
    {
     "name": "stderr",
     "output_type": "stream",
     "text": [
      "100%|██████████| 200/200 [57:00<00:00, 17.10s/it]\n"
     ]
    }
   ],
   "source": [
    "for i in tqdm.tqdm(range(simn)):\n",
    "    Talm, Ealm, Balm = cs.utils.gaussTEB(rlmax,ocl[0,:],ocl[1,:],ocl[2,:],ocl[3,:])\n",
    "    #CL['EE'][i,:] = cs.utils.alm2cl(Lmax,Ealm)\n",
    "    #CL['BB'][i,:] = cs.utils.alm2cl(Lmax,Balm)\n",
    "    # multiply filter to alms\n",
    "    Talm *= Fl[0,:,:]\n",
    "    Ealm *= Fl[1,:,:]\n",
    "    Balm *= Fl[2,:,:]\n",
    "    glm, clm = {}, {}\n",
    "    glm['TT'], clm['TT'] = cs.rec_lens.qtt(Lmax,rlmin,rlmax,lcl[0,:],Talm,Talm,nside_t=nside)\n",
    "    glm['TE'], clm['TE'] = cs.rec_lens.qte(Lmax,rlmin,rlmax,lcl[3,:],Talm,Ealm,nside_t=nside)\n",
    "    glm['EE'], clm['EE'] = cs.rec_lens.qee(Lmax,rlmin,rlmax,lcl[1,:],Ealm,Ealm,nside_t=nside)\n",
    "    glm['TB'], clm['TB'] = cs.rec_lens.qtb(Lmax,rlmin,rlmax,lcl[3,:],Talm,Balm,nside_t=nside)\n",
    "    glm['EB'], clm['EB'] = cs.rec_lens.qeb(Lmax,rlmin,rlmax,lcl[1,:],Ealm,Balm,nside_t=nside)\n",
    "    for q in qlist:\n",
    "        glm[q] *= Ag[qid[q],:,None]\n",
    "        clm[q] *= Ac[qid[q],:,None]\n",
    "    # combine each quadratic estimator to the MV estimator\n",
    "    glm['MV'], clm['MV'] = 0., 0.\n",
    "    for q in qlist:\n",
    "        glm['MV'] += Wg[qid[q],:,None]*glm[q]\n",
    "        clm['MV'] += Wc[qid[q],:,None]*clm[q]\n",
    "    glm['MV'] *= Ag[5,:,None]\n",
    "    clm['MV'] *= Ac[5,:,None]\n",
    "    # compute cl of the MV estimator\n",
    "    for q in (qlist+['MV']):\n",
    "        cl[q][i,0,:] = cs.utils.alm2cl(Lmax,glm[q])\n",
    "        cl[q][i,1,:] = cs.utils.alm2cl(Lmax,clm[q])"
   ]
  },
  {
   "cell_type": "code",
   "execution_count": 11,
   "metadata": {},
   "outputs": [],
   "source": [
    "# plot spectra (gradient)\n",
    "#mb = bn.multipole_binning(200,lmin=4,lmax=Lmax)\n",
    "#pl.plot_1dstyle(fsize=[7,4],xmin=2,xmax=Lmax,ymin=.9,ymax=1.1,grid=True,ylab=r'ratio')\n",
    "#for qi, (c, clid, ls, q) in enumerate([('k',1,'-','EE'),('g',2,'--','BB')]):\n",
    "#    mCL = np.mean(CL[q],axis=0)\n",
    "#    mCb = bn.binning(mCL/lcl[clid],mb)\n",
    "#    plot(mb.bc,mCb,color=c,ls=ls,label=q)\n",
    "#legend()"
   ]
  },
  {
   "cell_type": "code",
   "execution_count": 12,
   "metadata": {},
   "outputs": [
    {
     "name": "stderr",
     "output_type": "stream",
     "text": [
      "/global/homes/t/toshiyan/.conda/envs/loc/lib/python3.7/site-packages/ipykernel_launcher.py:9: RuntimeWarning: invalid value encountered in true_divide\n",
      "  if __name__ == '__main__':\n"
     ]
    },
    {
     "data": {
      "text/plain": [
       "<matplotlib.legend.Legend at 0x15551c6e1710>"
      ]
     },
     "execution_count": 12,
     "metadata": {},
     "output_type": "execute_result"
    },
    {
     "data": {
      "image/png": "[encoded data removed]",
      "text/plain": [
       "<Figure size 504x288 with 1 Axes>"
      ]
     },
     "metadata": {
      "needs_background": "light"
     },
     "output_type": "display_data"
    }
   ],
   "source": [
    "# plot spectra (gradient)\n",
    "mb = bn.multipole_binning(200,lmin=4,lmax=Lmax)\n",
    "#Ab = bn.binning(Ag[5,:],mb)\n",
    "#pl.plot_1dstyle(fsize=[7,4],xmin=2,xmax=Lmax,ymin=.96,ymax=1.04,grid=True,ylab=r'ratio')\n",
    "pl.plot_1dstyle(fsize=[7,4],xmin=2,xmax=Lmax,ymin=.9,ymax=1.1,grid=True,ylab=r'ratio')\n",
    "for qi, (c, q) in enumerate([('g','EB')]):\n",
    "#for qi, (c, q) in enumerate([('k','MV'),('g','EB')]):\n",
    "    mcl = np.mean(cl[q],axis=0)\n",
    "    mcb = bn.binning(mcl[0,:]/Ag[qid[q]],mb)\n",
    "    plot(mb.bc,mcb,color=c,ls='-',label=q)\n",
    "    #plot(Ag[qid[q]]/AgEB)\n",
    "legend()"
   ]
  },
  {
   "cell_type": "code",
   "execution_count": null,
   "metadata": {},
   "outputs": [],
   "source": []
  }
 ],
 "metadata": {
  "kernelspec": {
   "display_name": "Python 3",
   "language": "python",
   "name": "python3"
  },
  "language_info": {
   "codemirror_mode": {
    "name": "ipython",
    "version": 3
   },
   "file_extension": ".py",
   "mimetype": "text/x-python",
   "name": "python",
   "nbconvert_exporter": "python",
   "pygments_lexer": "ipython3",
   "version": "3.7.2"
  }
 },
 "nbformat": 4,
 "nbformat_minor": 4
}
