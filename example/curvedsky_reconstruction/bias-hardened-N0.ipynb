{
 "cells": [
  {
   "cell_type": "markdown",
   "metadata": {},
   "source": [
    "#### A quick demonstration of bias-hardened lensing/patchy tau/point source reconstruction in fullsky\n",
    "#### - this code shows how to compute the estiamtors, and output their power spectra"
   ]
  },
  {
   "cell_type": "code",
   "execution_count": 1,
   "metadata": {},
   "outputs": [],
   "source": [
    "import numpy as np, basic, curvedsky, plottools as pl\n",
    "from matplotlib.pyplot import *"
   ]
  },
  {
   "cell_type": "code",
   "execution_count": 2,
   "metadata": {},
   "outputs": [],
   "source": [
    "# define parameters\n",
    "Tcmb  = 2.726e6    # CMB temperature\n",
    "lmax  = 2048       # maximum multipole of output normalization\n",
    "rlmin, rlmax = 100, lmax  # reconstruction multipole range\n",
    "sig   = 50.\n",
    "ac2rad = np.pi/180./60.\n",
    "L = np.linspace(0,lmax,lmax+1)"
   ]
  },
  {
   "cell_type": "markdown",
   "metadata": {},
   "source": [
    "#### load unlensed and lensed Cls"
   ]
  },
  {
   "cell_type": "code",
   "execution_count": 3,
   "metadata": {},
   "outputs": [],
   "source": [
    "lcl = basic.aps.read_cambcls('../data/lensedcls.dat',2,lmax,4,bb=True)/Tcmb**2\n",
    "nl  = np.zeros((4,lmax+1))\n",
    "nl[0,:] = (sig*ac2rad/Tcmb)**2\n",
    "nl[1,:] = 2*nl[0,:]\n",
    "nl[2,:] = 2*nl[0,:]\n",
    "ocl = lcl + nl"
   ]
  },
  {
   "cell_type": "markdown",
   "metadata": {},
   "source": [
    "#### calculate normalizations"
   ]
  },
  {
   "cell_type": "code",
   "execution_count": 4,
   "metadata": {},
   "outputs": [],
   "source": [
    "Altt = curvedsky.norm_quad.qtt('amp',lmax,rlmin,rlmax,lcl[0,:],ocl[0,:])[0]\n",
    "Alpp = curvedsky.norm_quad.qtt('lens',lmax,rlmin,rlmax,lcl[0,:],ocl[0,:])[0]\n",
    "Alss = curvedsky.norm_quad.qtt('src',lmax,rlmin,rlmax,lcl[0,:],ocl[0,:])[0]"
   ]
  },
  {
   "cell_type": "code",
   "execution_count": 5,
   "metadata": {},
   "outputs": [],
   "source": [
    "Rlpt = curvedsky.norm_quad.xtt('lensamp',lmax,rlmin,rlmax,lcl[0,:],ocl[0,:])\n",
    "Rlps = curvedsky.norm_quad.xtt('lenssrc',lmax,rlmin,rlmax,lcl[0,:],ocl[0,:])\n",
    "Rlts = curvedsky.norm_quad.xtt('ampsrc',lmax,rlmin,rlmax,lcl[0,:],ocl[0,:])"
   ]
  },
  {
   "cell_type": "code",
   "execution_count": 6,
   "metadata": {},
   "outputs": [],
   "source": [
    "DetR = 1 - Alpp*Alss*Rlps**2 - Alpp*Altt*Rlpt**2 - Altt*Alss*Rlts**2 + 2.*Alpp*Altt*Alss*Rlpt*Rlps*Rlts"
   ]
  },
  {
   "cell_type": "code",
   "execution_count": 7,
   "metadata": {},
   "outputs": [],
   "source": [
    "Bltt = (1.-Alpp*Alss*Rlps**2)/DetR * Altt\n",
    "Bltp = (Rlts*Alss*Rlps-Rlpt)/DetR * Altt * Alpp\n",
    "Blts = (Rlpt*Alpp*Rlps-Rlts)/DetR * Altt * Alss"
   ]
  },
  {
   "cell_type": "code",
   "execution_count": 8,
   "metadata": {},
   "outputs": [],
   "source": [
    "# simple diagonal c-inverse\n",
    "Fl = np.zeros((3,lmax+1,lmax+1))\n",
    "for l in range(rlmin,rlmax):\n",
    "    Fl[:,l,0:l+1] = 1./ocl[:3,l,None]"
   ]
  },
  {
   "cell_type": "code",
   "execution_count": 9,
   "metadata": {},
   "outputs": [],
   "source": [
    "# generate CMB alms \n",
    "# - gaussian alms are generated, and the reconstructed cls are equal to the normalization\n",
    "Talm0 = curvedsky.utils.gauss1alm(lmax,lcl[0,:])\n",
    "Talm1 = curvedsky.utils.gauss1alm(lmax,lcl[0,:])"
   ]
  },
  {
   "cell_type": "code",
   "execution_count": 10,
   "metadata": {},
   "outputs": [],
   "source": [
    "# add noise\n",
    "Talm0 += curvedsky.utils.gauss1alm(lmax,nl[0,:])\n",
    "Talm1 += curvedsky.utils.gauss1alm(lmax,nl[0,:])"
   ]
  },
  {
   "cell_type": "code",
   "execution_count": 11,
   "metadata": {},
   "outputs": [],
   "source": [
    "# diagonal filtering\n",
    "Talm0 *= Fl[0,:,:]\n",
    "Talm1 *= Fl[0,:,:]"
   ]
  },
  {
   "cell_type": "code",
   "execution_count": 12,
   "metadata": {},
   "outputs": [],
   "source": [
    "# compute unnormalized estiamtors\n",
    "almt01 = curvedsky.rec_tau.qtt(lmax,rlmin,rlmax,lcl[0,:],Talm0,Talm1,nside_t=1024)\n",
    "almt10 = curvedsky.rec_tau.qtt(lmax,rlmin,rlmax,lcl[0,:],Talm1,Talm0,nside_t=1024)"
   ]
  },
  {
   "cell_type": "code",
   "execution_count": 13,
   "metadata": {},
   "outputs": [],
   "source": [
    "almp01, __ = curvedsky.rec_lens.qtt(lmax,rlmin,rlmax,lcl[0,:],Talm0,Talm1,nside_t=1024)\n",
    "almp10, __ = curvedsky.rec_lens.qtt(lmax,rlmin,rlmax,lcl[0,:],Talm1,Talm0,nside_t=1024)"
   ]
  },
  {
   "cell_type": "code",
   "execution_count": 14,
   "metadata": {},
   "outputs": [],
   "source": [
    "alms01 = curvedsky.rec_src.qtt(lmax,rlmin,rlmax,Talm0,Talm1,nside_t=1024)\n",
    "alms10 = curvedsky.rec_src.qtt(lmax,rlmin,rlmax,Talm1,Talm0,nside_t=1024)"
   ]
  },
  {
   "cell_type": "code",
   "execution_count": 15,
   "metadata": {},
   "outputs": [],
   "source": [
    "# bhe\n",
    "blmt01 = Bltt[:,None]*almt01 + Bltp[:,None]*almp01 + Blts[:,None]*alms01\n",
    "blmt10 = Bltt[:,None]*almt10 + Bltp[:,None]*almp10 + Blts[:,None]*alms10"
   ]
  },
  {
   "cell_type": "code",
   "execution_count": 16,
   "metadata": {},
   "outputs": [],
   "source": [
    "# compute cross spectra\n",
    "cl = curvedsky.utils.alm2cl(lmax,blmt01+blmt10)"
   ]
  },
  {
   "cell_type": "code",
   "execution_count": 17,
   "metadata": {},
   "outputs": [
    {
     "data": {
      "text/plain": [
       "[<matplotlib.lines.Line2D at 0x2aab08e8c358>]"
      ]
     },
     "execution_count": 17,
     "metadata": {},
     "output_type": "execute_result"
    },
    {
     "data": {
      "image/png": "[encoded data removed]",
      "text/plain": [
       "<Figure size 432x288 with 1 Axes>"
      ]
     },
     "metadata": {
      "needs_background": "light"
     },
     "output_type": "display_data"
    }
   ],
   "source": [
    "pl.plot_1dstyle()\n",
    "plot(cl/2.)\n",
    "plot(Bltt)"
   ]
  },
  {
   "cell_type": "code",
   "execution_count": null,
   "metadata": {},
   "outputs": [],
   "source": []
  }
 ],
 "metadata": {
  "kernelspec": {
   "display_name": "py4so",
   "language": "python",
   "name": "py4so"
  },
  "language_info": {
   "codemirror_mode": {
    "name": "ipython",
    "version": 3
   },
   "file_extension": ".py",
   "mimetype": "text/x-python",
   "name": "python",
   "nbconvert_exporter": "python",
   "pygments_lexer": "ipython3",
   "version": "3.7.2"
  }
 },
 "nbformat": 4,
 "nbformat_minor": 4
}
