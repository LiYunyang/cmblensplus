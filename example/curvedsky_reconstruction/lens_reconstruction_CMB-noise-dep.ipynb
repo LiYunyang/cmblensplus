{
 "cells": [
  {
   "cell_type": "markdown",
   "metadata": {},
   "source": [
    "# A reconstruction nosie dependence on CMB white noise level\n",
    "This code compute normalization and power spectrum of quadratic estiamtors with varying CMB noise level"
   ]
  },
  {
   "cell_type": "code",
   "execution_count": 6,
   "metadata": {},
   "outputs": [],
   "source": [
    "# external\n",
    "import numpy as np\n",
    "from matplotlib.pyplot import *\n",
    "# from cmblensplus/wrap/\n",
    "import basic\n",
    "import curvedsky as cs\n",
    "# from cmblensplus/utils/\n",
    "import plottools as pl\n",
    "import cmb"
   ]
  },
  {
   "cell_type": "markdown",
   "metadata": {},
   "source": [
    "First define parameters"
   ]
  },
  {
   "cell_type": "code",
   "execution_count": 2,
   "metadata": {},
   "outputs": [],
   "source": [
    "Tcmb  = 2.726e6    # CMB temperature\n",
    "Lmin, Lmax  = 2, 2048       # maximum multipole of output normalization\n",
    "rlmin, rlmax = 100, 4096  # CMB multipole range for reconstruction\n",
    "L = np.linspace(0,Lmax,Lmax+1)\n",
    "Lfac = (L*(L+1.))**2/(2*np.pi)\n",
    "ac2rad = np.pi/10800.\n",
    "lTmax = 3000\n",
    "quad = ['TT','TE','EE','TB','EB','MV']\n",
    "QDO = [True,True,True,True,True,False] # this means that TT, TE, EE, TB and EB are used for MV estimator"
   ]
  },
  {
   "cell_type": "markdown",
   "metadata": {},
   "source": [
    "Load arrays of CMB unlensed and lensed Cls. Unlensed Cls are not used for now. The Cls should not be multiplied by any factors and should not have units.  "
   ]
  },
  {
   "cell_type": "code",
   "execution_count": 3,
   "metadata": {},
   "outputs": [],
   "source": [
    "# ucl is an array of shape [0:5,0:rlmax+1] and ucl[0,:] = TT, ucl[1,:] = EE, ucl[2,:] = TE, lcl[3,:] = phiphi, lcl[4,:] = Tphi\n",
    "ucl = cmb.read_camb_cls('../data/unlensedcls.dat',ftype='scal',output='array')[:,:rlmax+1] # TT, EE, TE, pp, Tp\n",
    "# lcl is an array of shape [0:4,0:rlmax+1] and lcl[0,:] = TT, lcl[1,:] = EE, lcl[2,:] = BB, and lcl[3,:] = TE\n",
    "lcl = cmb.read_camb_cls('../data/lensedcls.dat',ftype='lens',output='array')[:,:rlmax+1] # TT, EE, BB, TE"
   ]
  },
  {
   "cell_type": "markdown",
   "metadata": {},
   "source": [
    "Loop over SNR calculation"
   ]
  },
  {
   "cell_type": "code",
   "execution_count": 4,
   "metadata": {},
   "outputs": [
    {
     "name": "stdout",
     "output_type": "stream",
     "text": [
      "[186.27056138  91.11680514 143.76678156  61.10459343 276.82560884\n",
      " 370.10665876]\n",
      "[184.62408933  86.40441724 120.7332669   43.97891204 219.70792774\n",
      " 321.52688971]\n",
      "[182.57981001  82.24926956 105.60088099  32.68002772 177.65807803\n",
      " 288.52144893]\n",
      "[174.54398033  72.02188639  79.32899284  15.67916505 100.88686222\n",
      " 232.85913889]\n",
      "[168.10239131  66.43678987  68.43110958  10.61724063  72.24078448\n",
      " 211.66543428]\n",
      "[133.82600152  46.18051158  36.73829453   2.86519947  19.0681705\n",
      " 153.16966525]\n",
      "[106.25155785  33.15516289  20.47564905   1.28098588   7.1543298\n",
      " 119.31695087]\n",
      "[71.95738108 18.27645362  6.85891947  0.45352687  1.69866732 79.79329722]\n"
     ]
    }
   ],
   "source": [
    "sigs = [3,4,5,8,10,20,30,50]\n",
    "snr = np.zeros((6,len(sigs)))\n",
    "for i, sig in enumerate(sigs):\n",
    "    nl  = np.zeros((4,rlmax+1))\n",
    "    nl[0,:] = (sig*ac2rad/Tcmb)**2\n",
    "    nl[1,:] = 2*nl[0,:]\n",
    "    nl[2,:] = 2*nl[0,:]\n",
    "    nl[0,lTmax+1:] = 1e30\n",
    "    ocl = lcl + nl\n",
    "    Ag, Ac, Wg, Wc = cs.norm_quad.qall('lens',QDO,Lmax,rlmin,rlmax,lcl,ocl)\n",
    "    for qi in range(6):\n",
    "        var_lm = ( ucl[3,Lmin:Lmax+1] + Ag[qi,Lmin:Lmax+1] ) \n",
    "        snr[qi,i] = np.sqrt( np.sum( (L[Lmin:Lmax+1]+.5) * ucl[3,Lmin:Lmax+1]**2/var_lm**2 ) )\n",
    "    print(snr[:,i])"
   ]
  },
  {
   "cell_type": "code",
   "execution_count": 7,
   "metadata": {},
   "outputs": [
    {
     "data": {
      "text/plain": [
       "<matplotlib.legend.Legend at 0x15551c6cbe10>"
      ]
     },
     "execution_count": 7,
     "metadata": {},
     "output_type": "execute_result"
    },
    {
     "data": {
      "image/png": "[encoded data removed]",
      "text/plain": [
       "<Figure size 432x288 with 1 Axes>"
      ]
     },
     "metadata": {
      "needs_background": "light"
     },
     "output_type": "display_data"
    }
   ],
   "source": [
    "pl.plot_1dstyle(xmin=1,xmax=20,xlab=r'$\\sigma_T$',ylab='S/N',xlog=True,ylog=True,grid=True)\n",
    "x = 50./np.array(sigs)\n",
    "for qi, q in enumerate(quad):\n",
    "    plot(x,snr[qi,:]/snr[qi,-1],label=q)\n",
    "legend()"
   ]
  },
  {
   "cell_type": "code",
   "execution_count": null,
   "metadata": {},
   "outputs": [],
   "source": []
  }
 ],
 "metadata": {
  "kernelspec": {
   "display_name": "Python 3",
   "language": "python",
   "name": "python3"
  },
  "language_info": {
   "codemirror_mode": {
    "name": "ipython",
    "version": 3
   },
   "file_extension": ".py",
   "mimetype": "text/x-python",
   "name": "python",
   "nbconvert_exporter": "python",
   "pygments_lexer": "ipython3",
   "version": "3.7.2"
  }
 },
 "nbformat": 4,
 "nbformat_minor": 4
}
