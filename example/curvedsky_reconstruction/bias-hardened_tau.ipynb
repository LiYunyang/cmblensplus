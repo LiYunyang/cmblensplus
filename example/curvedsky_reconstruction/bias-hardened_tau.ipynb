{
 "cells": [
  {
   "cell_type": "markdown",
   "metadata": {},
   "source": [
    "#### A quick demonstration of bias-hardened lensing/patchy tau/point source reconstruction in fullsky\n",
    "#### - this code shows how to compute the estiamtors, and output their power spectra"
   ]
  },
  {
   "cell_type": "code",
   "execution_count": 1,
   "metadata": {},
   "outputs": [],
   "source": [
    "import numpy as np, basic, curvedsky, plottools as pl, cmb\n",
    "from matplotlib.pyplot import *"
   ]
  },
  {
   "cell_type": "code",
   "execution_count": 2,
   "metadata": {},
   "outputs": [],
   "source": [
    "# define parameters\n",
    "Tcmb  = 2.726e6    # CMB temperature\n",
    "lmax  = 2048       # maximum multipole of output normalization\n",
    "rlmin, rlmax = 100, lmax  # reconstruction multipole range\n",
    "sig   = 50.\n",
    "ac2rad = np.pi/180./60.\n",
    "L = np.linspace(0,lmax,lmax+1)"
   ]
  },
  {
   "cell_type": "markdown",
   "metadata": {},
   "source": [
    "#### Load unlensed and lensed Cls"
   ]
  },
  {
   "cell_type": "code",
   "execution_count": 3,
   "metadata": {},
   "outputs": [],
   "source": [
    "lcl = cmb.read_camb_cls('../data/lensedcls.dat',ftype='lens',output='array')[:,:lmax+1]\n",
    "nl  = np.zeros((4,lmax+1))\n",
    "nl[0,:] = (sig*ac2rad/Tcmb)**2\n",
    "nl[1,:] = 2*nl[0,:]\n",
    "nl[2,:] = 2*nl[0,:]\n",
    "ocl = lcl + nl\n",
    "hcl = np.ones(lmax+1)*.5"
   ]
  },
  {
   "cell_type": "markdown",
   "metadata": {},
   "source": [
    "#### Calculate normalizations"
   ]
  },
  {
   "cell_type": "code",
   "execution_count": 4,
   "metadata": {},
   "outputs": [],
   "source": [
    "Altt = curvedsky.norm_quad.qtt('amp',lmax,rlmin,rlmax,lcl[0,:],ocl[0,:])[0]\n",
    "Alpp = curvedsky.norm_quad.qtt('lens',lmax,rlmin,rlmax,lcl[0,:],ocl[0,:])[0]\n",
    "Alss = curvedsky.norm_quad.qtt('src',lmax,rlmin,rlmax,hcl,lcl[0,:],ocl[0,:])[0]"
   ]
  },
  {
   "cell_type": "code",
   "execution_count": 5,
   "metadata": {},
   "outputs": [],
   "source": [
    "Rlpt = curvedsky.norm_quad.xtt('lensamp',lmax,rlmin,rlmax,lcl[0,:],ocl[0,:])\n",
    "Rlps = curvedsky.norm_quad.xtt('lenssrc',lmax,rlmin,rlmax,lcl[0,:],ocl[0,:])\n",
    "Rlts = curvedsky.norm_quad.xtt('ampsrc',lmax,rlmin,rlmax,lcl[0,:],ocl[0,:])"
   ]
  },
  {
   "cell_type": "code",
   "execution_count": 6,
   "metadata": {},
   "outputs": [],
   "source": [
    "DetR = 1 - Alpp*Alss*Rlps**2 - Alpp*Altt*Rlpt**2 - Altt*Alss*Rlts**2 + 2.*Alpp*Altt*Alss*Rlpt*Rlps*Rlts"
   ]
  },
  {
   "cell_type": "code",
   "execution_count": 7,
   "metadata": {},
   "outputs": [],
   "source": [
    "Bltt = (1.-Alpp*Alss*Rlps**2)/DetR\n",
    "Bltp = (Rlts*Alss*Rlps-Rlpt)/DetR * Altt\n",
    "Blts = (Rlpt*Alpp*Rlps-Rlts)/DetR * Altt"
   ]
  },
  {
   "cell_type": "code",
   "execution_count": 8,
   "metadata": {},
   "outputs": [
    {
     "data": {
      "text/plain": [
       "[<matplotlib.lines.Line2D at 0x15551c739ba8>]"
      ]
     },
     "execution_count": 8,
     "metadata": {},
     "output_type": "execute_result"
    },
    {
     "data": {
      "image/png": "[encoded data removed]",
      "text/plain": [
       "<Figure size 432x288 with 1 Axes>"
      ]
     },
     "metadata": {
      "needs_background": "light"
     },
     "output_type": "display_data"
    }
   ],
   "source": [
    "pl.plot_1dstyle(ylog=True,ymin=1e-7,ymax=1e-5)\n",
    "plot(Bltt*Altt)\n",
    "plot(Altt)"
   ]
  },
  {
   "cell_type": "markdown",
   "metadata": {},
   "source": [
    "#### Generate filtered alms"
   ]
  },
  {
   "cell_type": "code",
   "execution_count": 9,
   "metadata": {},
   "outputs": [],
   "source": [
    "# simple diagonal c-inverse\n",
    "Fl = np.zeros((3,lmax+1,lmax+1))\n",
    "for l in range(rlmin,rlmax):\n",
    "    Fl[:,l,0:l+1] = 1./ocl[:3,l,None]"
   ]
  },
  {
   "cell_type": "code",
   "execution_count": 10,
   "metadata": {},
   "outputs": [],
   "source": [
    "# generate CMB alms \n",
    "# - gaussian alms are generated, and the reconstructed cls are equal to the normalization\n",
    "Talm, Ealm, Balm = curvedsky.utils.gaussTEB(lmax,lcl[0,:],lcl[1,:],lcl[2,:],lcl[3,:])\n",
    "tlm = curvedsky.utils.gauss1alm(lmax,1e-5*np.exp(-(L/500.)**2))"
   ]
  },
  {
   "cell_type": "code",
   "execution_count": 11,
   "metadata": {},
   "outputs": [],
   "source": [
    "# modulate amplitude in map space\n",
    "nside = 1024\n",
    "npix  = 12*nside**2\n",
    "tau  = curvedsky.utils.hp_alm2map(nside,lmax,lmax,tlm)\n",
    "Tmap = curvedsky.utils.hp_alm2map(nside,lmax,lmax,Talm)\n",
    "Talm = curvedsky.utils.hp_map2alm(nside,lmax,lmax,Tmap*(1.+tau))\n",
    "#Qmap, Umap = curvedsky.utils.hp_alm2map_spin(nside,lmax,lmax,2,Ealm,Balm)\n",
    "#Ealm, Balm = curvedsky.utils.hp_map2alm_spin(nside,lmax,lmax,2,Qmap*(1.+tau),Umap*(1.+tau))"
   ]
  },
  {
   "cell_type": "code",
   "execution_count": 12,
   "metadata": {},
   "outputs": [],
   "source": [
    "# add noise\n",
    "Talm += curvedsky.utils.gauss1alm(lmax,nl[0,:])\n",
    "#Ealm += curvedsky.utils.gauss1alm(lmax,nl[1,:])\n",
    "#Balm += curvedsky.utils.gauss1alm(lmax,nl[2,:])"
   ]
  },
  {
   "cell_type": "code",
   "execution_count": 13,
   "metadata": {},
   "outputs": [],
   "source": [
    "# diagonal filtering\n",
    "Talm *= Fl[0,:,:]\n",
    "#Ealm *= Fl[1,:,:]\n",
    "#Balm *= Fl[2,:,:]"
   ]
  },
  {
   "cell_type": "markdown",
   "metadata": {},
   "source": [
    "#### Reconstruction"
   ]
  },
  {
   "cell_type": "code",
   "execution_count": 14,
   "metadata": {},
   "outputs": [],
   "source": [
    "# compute unnormalized estiamtors\n",
    "almt = curvedsky.rec_tau.qtt(lmax,rlmin,rlmax,lcl[0,:],Talm,Talm,nside_t=1024)"
   ]
  },
  {
   "cell_type": "code",
   "execution_count": 15,
   "metadata": {},
   "outputs": [],
   "source": [
    "almp, __ = curvedsky.rec_lens.qtt(lmax,rlmin,rlmax,lcl[0,:],Talm,Talm,nside_t=1024)"
   ]
  },
  {
   "cell_type": "code",
   "execution_count": 16,
   "metadata": {},
   "outputs": [],
   "source": [
    "#alms = curvedsky.rec_src.qtt(lmax,rlmin,rlmax,Talm,Talm,nside_t=1024)\n",
    "alms = curvedsky.rec_tau.qtt(lmax,rlmin,rlmax,hcl,Talm,Talm,nside_t=1024)"
   ]
  },
  {
   "cell_type": "markdown",
   "metadata": {},
   "source": [
    "#### Check Response"
   ]
  },
  {
   "cell_type": "code",
   "execution_count": 17,
   "metadata": {},
   "outputs": [],
   "source": [
    "rlp = curvedsky.utils.alm2cl(lmax,almp,tlm)\n",
    "rlt = curvedsky.utils.alm2cl(lmax,almt,tlm)\n",
    "rls = curvedsky.utils.alm2cl(lmax,alms,tlm)\n",
    "tl = curvedsky.utils.alm2cl(lmax,tlm)"
   ]
  },
  {
   "cell_type": "code",
   "execution_count": 18,
   "metadata": {},
   "outputs": [
    {
     "name": "stderr",
     "output_type": "stream",
     "text": [
      "/global/homes/t/toshiyan/.conda/envs/loc/lib/python3.7/site-packages/ipykernel_launcher.py:1: RuntimeWarning: invalid value encountered in true_divide\n",
      "  \"\"\"Entry point for launching an IPython kernel.\n",
      "/global/homes/t/toshiyan/.conda/envs/loc/lib/python3.7/site-packages/ipykernel_launcher.py:2: RuntimeWarning: invalid value encountered in true_divide\n",
      "  \n",
      "/global/homes/t/toshiyan/.conda/envs/loc/lib/python3.7/site-packages/ipykernel_launcher.py:3: RuntimeWarning: invalid value encountered in true_divide\n",
      "  This is separate from the ipykernel package so we can avoid doing imports until\n"
     ]
    },
    {
     "data": {
      "text/plain": [
       "[<matplotlib.lines.Line2D at 0x15551c6d8f28>]"
      ]
     },
     "execution_count": 18,
     "metadata": {},
     "output_type": "execute_result"
    },
    {
     "data": {
      "image/png": "[encoded data removed]",
      "text/plain": [
       "<Figure size 432x288 with 1 Axes>"
      ]
     },
     "metadata": {
      "needs_background": "light"
     },
     "output_type": "display_data"
    }
   ],
   "source": [
    "plot(rlp/Rlpt)\n",
    "plot(rlt/Altt)\n",
    "plot(rls/Rlts)"
   ]
  },
  {
   "cell_type": "code",
   "execution_count": 19,
   "metadata": {},
   "outputs": [],
   "source": [
    "# normalized estimator\n",
    "almt *= Altt[:,None]\n",
    "almp *= Alpp[:,None]\n",
    "alms *= Alss[:,None]"
   ]
  },
  {
   "cell_type": "code",
   "execution_count": 20,
   "metadata": {},
   "outputs": [],
   "source": [
    "# bhe\n",
    "blmt = Bltt[:,None]*almt + Bltp[:,None]*almp + Blts[:,None]*alms"
   ]
  },
  {
   "cell_type": "code",
   "execution_count": 21,
   "metadata": {},
   "outputs": [],
   "source": [
    "# compute cross spectra\n",
    "xltt = curvedsky.utils.alm2cl(lmax,almt,tlm)\n",
    "Xltt = curvedsky.utils.alm2cl(lmax,blmt,tlm)\n",
    "tl = curvedsky.utils.alm2cl(lmax,tlm)\n",
    "clpp = curvedsky.utils.alm2cl(lmax,almp,tlm)"
   ]
  },
  {
   "cell_type": "code",
   "execution_count": 22,
   "metadata": {},
   "outputs": [
    {
     "name": "stderr",
     "output_type": "stream",
     "text": [
      "/global/homes/t/toshiyan/.conda/envs/loc/lib/python3.7/site-packages/ipykernel_launcher.py:3: RuntimeWarning: invalid value encountered in true_divide\n",
      "  This is separate from the ipykernel package so we can avoid doing imports until\n",
      "/global/homes/t/toshiyan/.conda/envs/loc/lib/python3.7/site-packages/ipykernel_launcher.py:4: RuntimeWarning: invalid value encountered in true_divide\n",
      "  after removing the cwd from sys.path.\n"
     ]
    },
    {
     "data": {
      "text/plain": [
       "[<matplotlib.lines.Line2D at 0x15551c6129e8>]"
      ]
     },
     "execution_count": 22,
     "metadata": {},
     "output_type": "execute_result"
    },
    {
     "data": {
      "image/png": "[encoded data removed]",
      "text/plain": [
       "<Figure size 432x288 with 1 Axes>"
      ]
     },
     "metadata": {
      "needs_background": "light"
     },
     "output_type": "display_data"
    }
   ],
   "source": [
    "xscale('log')\n",
    "ylim(.7,1.3)\n",
    "plot(tl/xltt)\n",
    "plot(tl/Xltt)"
   ]
  },
  {
   "cell_type": "code",
   "execution_count": null,
   "metadata": {},
   "outputs": [],
   "source": []
  }
 ],
 "metadata": {
  "kernelspec": {
   "display_name": "py4so",
   "language": "python",
   "name": "py4so"
  },
  "language_info": {
   "codemirror_mode": {
    "name": "ipython",
    "version": 3
   },
   "file_extension": ".py",
   "mimetype": "text/x-python",
   "name": "python",
   "nbconvert_exporter": "python",
   "pygments_lexer": "ipython3",
   "version": "3.7.2"
  }
 },
 "nbformat": 4,
 "nbformat_minor": 4
}
