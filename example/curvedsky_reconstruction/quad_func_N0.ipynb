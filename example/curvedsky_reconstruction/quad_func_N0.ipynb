{
 "cells": [
  {
   "cell_type": "markdown",
   "metadata": {},
   "source": [
    "#### A quick demonstration of bias-hardened lensing/patchy tau/point source reconstruction in fullsky\n",
    "#### - this code shows how to compute the estiamtors, and output their power spectra"
   ]
  },
  {
   "cell_type": "code",
   "execution_count": 1,
   "metadata": {},
   "outputs": [],
   "source": [
    "import numpy as np, basic, curvedsky as cs, plottools as pl, pickle, quad_func, tqdm, misctools\n",
    "from matplotlib.pyplot import *"
   ]
  },
  {
   "cell_type": "code",
   "execution_count": 2,
   "metadata": {},
   "outputs": [],
   "source": [
    "# define parameters\n",
    "Tcmb  = 2.726e6    # CMB temperature\n",
    "lmax  = 2048       # maximum multipole of output normalization\n",
    "lmax  = 512\n",
    "rlmin, rlmax = 100, lmax  # reconstruction multipole range\n",
    "sig   = 50.\n",
    "ac2rad = np.pi/180./60.\n",
    "L = np.linspace(0,lmax,lmax+1)\n",
    "simn = 100\n",
    "root = '/global/homes/t/toshiyan/scratch/test/'\n",
    "ow = False"
   ]
  },
  {
   "cell_type": "markdown",
   "metadata": {},
   "source": [
    "#### load unlensed and lensed Cls"
   ]
  },
  {
   "cell_type": "code",
   "execution_count": 3,
   "metadata": {},
   "outputs": [],
   "source": [
    "lcl = basic.aps.read_cambcls('../data/lensedcls.dat',2,lmax,4,bb=True)/Tcmb**2\n",
    "nl  = np.zeros((4,lmax+1))\n",
    "nl[0,:] = (sig*ac2rad/Tcmb)**2\n",
    "nl[1,:] = 2*nl[0,:]\n",
    "nl[2,:] = 2*nl[0,:]\n",
    "ocl = lcl + nl"
   ]
  },
  {
   "cell_type": "markdown",
   "metadata": {},
   "source": [
    "#### Calculate normalizations, N0 and RDN0"
   ]
  },
  {
   "cell_type": "code",
   "execution_count": 4,
   "metadata": {},
   "outputs": [],
   "source": [
    "# example setup of filename and its ids\n",
    "ids = [str(i).zfill(5) for i in range(-1,1000)]\n",
    "ids[0] = 'real'  # change 1st index\n",
    "falm = { m: [root+'tau/cmb/test_'+m+'_'+x+'.pkl' for x in ids] for m in ['T','E','B'] }\n",
    "fcgg = { q: [root+'tau/aps/cgg_'+q+'_'+x+'.txt' for x in ids] for q in ['TT'] }"
   ]
  },
  {
   "cell_type": "code",
   "execution_count": 5,
   "metadata": {},
   "outputs": [
    {
     "name": "stderr",
     "output_type": "stream",
     "text": [
      "100%|██████████| 101/101 [00:00<00:00, 5425.38it/s]"
     ]
    },
    {
     "name": "stdout",
     "output_type": "stream",
     "text": [
      "/global/homes/t/toshiyan/scratch/test/tau/cmb/test_T_00099.pkl exist and is not overwritten\r"
     ]
    },
    {
     "name": "stderr",
     "output_type": "stream",
     "text": [
      "\n"
     ]
    }
   ],
   "source": [
    "# generate CMB alms \n",
    "for i in tqdm.tqdm(range(simn+1)):\n",
    "    if misctools.check_path(falm['T'][i]): continue\n",
    "    Talm = cs.utils.gauss1alm(lmax,lcl[0,:])\n",
    "    Talm += cs.utils.gauss1alm(lmax,nl[0,:])\n",
    "    pickle.dump((Talm),open(falm['T'][i],\"wb\"),protocol=pickle.HIGHEST_PROTOCOL)"
   ]
  },
  {
   "cell_type": "code",
   "execution_count": 6,
   "metadata": {},
   "outputs": [],
   "source": [
    "qobj = quad_func.quad(root=root,rlz=range(simn+1),qtype='tau',bhe=['lens'],\\\n",
    "        lcl=lcl,ocl=ocl,ifl=ocl,falm=falm,rlmin=rlmin,rlmax=rlmax,n0max=np.int(simn/2),rdmax=simn,nside=1024,qlist=['TT'],ids=ids,overwrite=ow)"
   ]
  },
  {
   "cell_type": "code",
   "execution_count": 7,
   "metadata": {},
   "outputs": [
    {
     "name": "stdout",
     "output_type": "stream",
     "text": [
      "/global/homes/t/toshiyan/scratch/test/tau/aps/n0_TT__bh-lens_l100-512_n050.dat exist and is not overwritten\r"
     ]
    }
   ],
   "source": [
    "qobj.qrec_flow(run=['norm','qrec','n0','rdn0'])\n",
    "#qobj.qrec_flow(run=['drdn0'])"
   ]
  },
  {
   "cell_type": "code",
   "execution_count": 9,
   "metadata": {},
   "outputs": [],
   "source": [
    "rds = np.array([(np.loadtxt(qobj.f['TT'].rdn0[i+1])).T[1] for i in range(simn)])"
   ]
  },
  {
   "cell_type": "code",
   "execution_count": 16,
   "metadata": {},
   "outputs": [
    {
     "data": {
      "text/plain": [
       "[<matplotlib.lines.Line2D at 0x2aaae74319b0>]"
      ]
     },
     "execution_count": 16,
     "metadata": {},
     "output_type": "execute_result"
    },
    {
     "data": {
      "image/png": "[encoded data removed]",
      "text/plain": [
       "<Figure size 432x288 with 1 Axes>"
      ]
     },
     "metadata": {
      "needs_background": "light"
     },
     "output_type": "display_data"
    }
   ],
   "source": [
    "xlim(1,rlmax)\n",
    "ylim(1e-8,1e-4)\n",
    "yscale('log')\n",
    "plot(l,np.std(rds,axis=0))\n",
    "plot(l,n0/np.sqrt(l+0.5))"
   ]
  },
  {
   "cell_type": "code",
   "execution_count": 29,
   "metadata": {},
   "outputs": [
    {
     "name": "stderr",
     "output_type": "stream",
     "text": [
      "100%|██████████| 100/100 [01:14<00:00,  1.34it/s]\n"
     ]
    }
   ],
   "source": [
    "cl = np.zeros((simn,qobj.olmax+1))\n",
    "for i in tqdm.tqdm(range(simn)):\n",
    "    #if misctools.check_path(fcgg['TT'][i+1],overwrite=ow): \n",
    "    #    cl[i,:] = (np.loadtxt(fcgg['TT'][i+1])).T\n",
    "    #else:\n",
    "        glm = pickle.load(open(qobj.f['TT'].alm[i+1],\"rb\"))[0]\n",
    "        cl[i,:] = cs.utils.alm2cl(qobj.olmax,glm)\n",
    "        np.savetxt(fcgg['TT'][i+1],cl[i,:].T)"
   ]
  },
  {
   "cell_type": "code",
   "execution_count": 32,
   "metadata": {},
   "outputs": [
    {
     "data": {
      "text/plain": [
       "[<matplotlib.lines.Line2D at 0x2aaaec07e0f0>]"
      ]
     },
     "execution_count": 32,
     "metadata": {},
     "output_type": "execute_result"
    },
    {
     "data": {
      "image/png": "[encoded data removed]",
      "text/plain": [
       "<Figure size 432x288 with 1 Axes>"
      ]
     },
     "metadata": {
      "needs_background": "light"
     },
     "output_type": "display_data"
    }
   ],
   "source": [
    "xlim(1,rlmax)\n",
    "ylim(1e-7,1e-3)\n",
    "yscale('log')\n",
    "#plot(l,np.mean(cl,axis=0))\n",
    "#plot(l,n0)\n",
    "#plot(l,al)\n",
    "plot(l,np.std(cl,axis=0))\n",
    "plot(l,np.std(cl-rds,axis=0))"
   ]
  },
  {
   "cell_type": "code",
   "execution_count": null,
   "metadata": {},
   "outputs": [],
   "source": []
  }
 ],
 "metadata": {
  "kernelspec": {
   "display_name": "py4so",
   "language": "python",
   "name": "py4so"
  },
  "language_info": {
   "codemirror_mode": {
    "name": "ipython",
    "version": 3
   },
   "file_extension": ".py",
   "mimetype": "text/x-python",
   "name": "python",
   "nbconvert_exporter": "python",
   "pygments_lexer": "ipython3",
   "version": "3.7.2"
  }
 },
 "nbformat": 4,
 "nbformat_minor": 4
}
