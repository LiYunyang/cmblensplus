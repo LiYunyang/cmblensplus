{
 "cells": [
  {
   "cell_type": "markdown",
   "metadata": {},
   "source": [
    "#### A quick demonstration of bias-hardened lensing/patchy tau/point source reconstruction in fullsky\n",
    "#### - this code shows how to compute the estiamtors, and output their power spectra"
   ]
  },
  {
   "cell_type": "code",
   "execution_count": 1,
   "metadata": {},
   "outputs": [],
   "source": [
    "import numpy as np, basic, curvedsky as cs, plottools as pl, pickle, quad_func, tqdm, misctools\n",
    "from matplotlib.pyplot import *"
   ]
  },
  {
   "cell_type": "code",
   "execution_count": 2,
   "metadata": {},
   "outputs": [],
   "source": [
    "# define parameters\n",
    "Tcmb  = 2.726e6    # CMB temperature\n",
    "lmax  = 2048       # maximum multipole of output normalization\n",
    "rlmin, rlmax = 100, lmax  # reconstruction multipole range\n",
    "sig   = 50.\n",
    "ac2rad = np.pi/180./60.\n",
    "L = np.linspace(0,lmax,lmax+1)\n",
    "simn = 10"
   ]
  },
  {
   "cell_type": "markdown",
   "metadata": {},
   "source": [
    "#### load unlensed and lensed Cls"
   ]
  },
  {
   "cell_type": "code",
   "execution_count": 3,
   "metadata": {},
   "outputs": [],
   "source": [
    "lcl = basic.aps.read_cambcls('../data/lensedcls.dat',2,lmax,4,bb=True)/Tcmb**2\n",
    "nl  = np.zeros((4,lmax+1))\n",
    "nl[0,:] = (sig*ac2rad/Tcmb)**2\n",
    "nl[1,:] = 2*nl[0,:]\n",
    "nl[2,:] = 2*nl[0,:]\n",
    "ocl = lcl + nl"
   ]
  },
  {
   "cell_type": "markdown",
   "metadata": {},
   "source": [
    "#### Calculate normalizations, N0 and RDN0"
   ]
  },
  {
   "cell_type": "code",
   "execution_count": 4,
   "metadata": {},
   "outputs": [],
   "source": [
    "# example setup of filename and its ids\n",
    "ids = [str(i).zfill(5) for i in range(-1,1000)]\n",
    "ids[0] = 'real'  # change 1st index\n",
    "falm = { m: ['test_'+m+'_'+x+'.pkl' for x in ids] for m in ['T','E','B'] }"
   ]
  },
  {
   "cell_type": "code",
   "execution_count": 5,
   "metadata": {},
   "outputs": [
    {
     "name": "stderr",
     "output_type": "stream",
     "text": [
      "100%|██████████| 11/11 [00:00<00:00, 5730.64it/s]"
     ]
    },
    {
     "name": "stdout",
     "output_type": "stream",
     "text": [
      "test_T_00009.pkl exist and is not overwritten\r"
     ]
    },
    {
     "name": "stderr",
     "output_type": "stream",
     "text": [
      "\n"
     ]
    }
   ],
   "source": [
    "# generate CMB alms \n",
    "for i in tqdm.tqdm(range(simn+1)):\n",
    "    if misctools.check_path(falm['T'][i]): continue\n",
    "    Talm = cs.utils.gauss1alm(lmax,lcl[0,:])\n",
    "    Talm += cs.utils.gauss1alm(lmax,nl[0,:])\n",
    "    pickle.dump((Talm),open(falm['T'][i],\"wb\"),protocol=pickle.HIGHEST_PROTOCOL)"
   ]
  },
  {
   "cell_type": "code",
   "execution_count": 6,
   "metadata": {},
   "outputs": [],
   "source": [
    "qobj = quad_func.quad(root='/global/homes/t/toshiyan/trash/',rlz=range(simn+1),qtype='tau',bhe=['lens'],\\\n",
    "                      lcl=lcl,ocl=ocl,ifl=ocl,falm=falm,rlmin=rlmin,rlmax=rlmax,n0max=np.int(simn/2),rdmax=simn,nside=1024,qlist=['TT'],ids=ids,overwrite=True)"
   ]
  },
  {
   "cell_type": "code",
   "execution_count": 7,
   "metadata": {},
   "outputs": [
    {
     "name": "stderr",
     "output_type": "stream",
     "text": [
      "RDN0 bias: Obtain mean alm: 100%|███████████████████████████████████| 10/10 [00:02<00:00,  4.45it/s]\n",
      "RDN0: Commpute Spectrum: 100%|██████████████████████████████████████| 11/11 [08:02<00:00, 43.82s/it]\n"
     ]
    }
   ],
   "source": [
    "#qobj.qrec_flow(run=['norm','n0','rdn0'])\n",
    "qobj.qrec_flow(run=['rdn0'])"
   ]
  },
  {
   "cell_type": "code",
   "execution_count": 8,
   "metadata": {},
   "outputs": [
    {
     "data": {
      "text/plain": [
       "[<matplotlib.lines.Line2D at 0x2aaaaf234940>]"
      ]
     },
     "execution_count": 8,
     "metadata": {},
     "output_type": "execute_result"
    },
    {
     "data": {
      "image/png": "[encoded data removed]",
      "text/plain": [
       "<Figure size 432x288 with 1 Axes>"
      ]
     },
     "metadata": {
      "needs_background": "light"
     },
     "output_type": "display_data"
    }
   ],
   "source": [
    "pl.plot_1dstyle()\n",
    "l, al = np.loadtxt(qobj.f['TT'].al,unpack=True,usecols=(0,1))\n",
    "l, n0 = np.loadtxt(qobj.f['TT'].n0bs,unpack=True,usecols=(0,1))\n",
    "#l, rd = np.loadtxt(qobj.f['TT'].rdn0[0],unpack=True,usecols=(0,1))\n",
    "l, rd = np.loadtxt(qobj.f['TT'].rdn0[1],unpack=True,usecols=(0,1))\n",
    "plot(l,n0)\n",
    "plot(l,rd)\n",
    "plot(l,al)"
   ]
  },
  {
   "cell_type": "code",
   "execution_count": null,
   "metadata": {},
   "outputs": [],
   "source": []
  }
 ],
 "metadata": {
  "kernelspec": {
   "display_name": "py4so",
   "language": "python",
   "name": "py4so"
  },
  "language_info": {
   "codemirror_mode": {
    "name": "ipython",
    "version": 3
   },
   "file_extension": ".py",
   "mimetype": "text/x-python",
   "name": "python",
   "nbconvert_exporter": "python",
   "pygments_lexer": "ipython3",
   "version": "3.7.2"
  }
 },
 "nbformat": 4,
 "nbformat_minor": 4
}
