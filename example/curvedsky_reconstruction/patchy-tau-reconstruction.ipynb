{
 "cells": [
  {
   "cell_type": "markdown",
   "metadata": {},
   "source": [
    "#### A quick demonstration of patchy tau (amplitude modulation) reconstruction in fullsky\n",
    "#### - this code shows how to compute the estiamtors, and output their power spectra"
   ]
  },
  {
   "cell_type": "code",
   "execution_count": 20,
   "metadata": {},
   "outputs": [],
   "source": [
    "import numpy as np, basic, curvedsky, plottools as pl, healpy as hp\n",
    "from matplotlib.pyplot import *"
   ]
  },
  {
   "cell_type": "code",
   "execution_count": 24,
   "metadata": {},
   "outputs": [],
   "source": [
    "def sim(nside,cltt,Al,Il,W):\n",
    "    # generate CMB alms \n",
    "    # - gaussian alms are generated, and the reconstructed cls are equal to the normalization\n",
    "    Talm, Ealm, Balm = curvedsky.utils.gaussTEB(lmax,lcl[0,:],lcl[1,:],lcl[2,:],lcl[3,:])\n",
    "    tlm = curvedsky.utils.gauss1alm(lmax,cltt)\n",
    "    # modulate amplitude in map space\n",
    "    tau  = curvedsky.utils.hp_alm2map(nside,lmax,lmax,tlm)\n",
    "    Tmap = curvedsky.utils.hp_alm2map(nside,lmax,lmax,Talm)\n",
    "    Talm = curvedsky.utils.hp_map2alm(nside,lmax,lmax,Tmap*np.exp(-tau)*W)\n",
    "    # add noise and filtering (temp)\n",
    "    Talm += curvedsky.utils.gauss1alm(lmax,nl[0,:])\n",
    "    Talm *= Fl[0,:,:]\n",
    "    # compute unnormalized estiamtors\n",
    "    alm = {}\n",
    "    alm['tTT'] = curvedsky.rec_tau.qtt(lmax,rlmin,rlmax,lcl[0,:],Talm,Talm,nside=1024)\n",
    "    alm['lTT'], __ = curvedsky.rec_lens.qtt(lmax,rlmin,rlmax,lcl[0,:],Talm,Talm,nside=1024)\n",
    "    # normalized estimators\n",
    "    for qest in ['lTT','tTT']:\n",
    "        alm[qest] *= Al[qest][:,None]\n",
    "    # bhe\n",
    "    alm['qTT'] = alm['tTT'] - Al['tTT'][:,None]*Al['xTT'][:,None]*alm['lTT']\n",
    "    alm['qTT'] *= Il[:,None]\n",
    "    # compute cross spectra\n",
    "    xl = {}\n",
    "    w1 = np.mean(W)\n",
    "    for qest in ['qTT','tTT']:\n",
    "        xl[qest] = curvedsky.utils.alm2cl(lmax,-alm[qest],tlm)/w1\n",
    "    tl = curvedsky.utils.alm2cl(lmax,tlm)\n",
    "    return xl['qTT'], xl['tTT'], tl"
   ]
  },
  {
   "cell_type": "code",
   "execution_count": 3,
   "metadata": {},
   "outputs": [],
   "source": [
    "# define parameters\n",
    "Tcmb  = 2.726e6    # CMB temperature\n",
    "lmax  = 2048       # maximum multipole of output normalization\n",
    "rlmin, rlmax = 100, lmax  # reconstruction multipole range\n",
    "sig   = 50.\n",
    "ac2rad = np.pi/180./60.\n",
    "L = np.linspace(0,lmax,lmax+1)"
   ]
  },
  {
   "cell_type": "markdown",
   "metadata": {},
   "source": [
    "#### load unlensed and lensed Cls"
   ]
  },
  {
   "cell_type": "code",
   "execution_count": 4,
   "metadata": {},
   "outputs": [],
   "source": [
    "lcl = basic.aps.read_cambcls('../data/lensedcls.dat',2,lmax,4,bb=True)/Tcmb**2\n",
    "nl  = np.zeros((4,lmax+1))\n",
    "nl[0,:] = (sig*ac2rad/Tcmb)**2\n",
    "nl[1,:] = 2*nl[0,:]\n",
    "nl[2,:] = 2*nl[0,:]\n",
    "ocl = lcl + nl"
   ]
  },
  {
   "cell_type": "code",
   "execution_count": 5,
   "metadata": {},
   "outputs": [],
   "source": [
    "l, ntt = np.loadtxt('../data/Al_TT_dr2_smica_Lmask_a0.0deg_cinv_l100-2048.dat',unpack=True,usecols=(0,1))"
   ]
  },
  {
   "cell_type": "markdown",
   "metadata": {},
   "source": [
    "#### calculate normalizations"
   ]
  },
  {
   "cell_type": "code",
   "execution_count": 6,
   "metadata": {},
   "outputs": [],
   "source": [
    "Al = {}\n",
    "Al['tTT'] = curvedsky.norm_tau.qtt(lmax,rlmin,rlmax,lcl[0,:],ocl[0,:])\n",
    "#Al['tEB'] = curvedsky.norm_tau.qeb(lmax,rlmin,rlmax,lcl[1,:],ocl[1,:],ocl[2,:])"
   ]
  },
  {
   "cell_type": "code",
   "execution_count": 7,
   "metadata": {},
   "outputs": [
    {
     "data": {
      "text/plain": [
       "<matplotlib.legend.Legend at 0x2aaadd3280b8>"
      ]
     },
     "execution_count": 7,
     "metadata": {},
     "output_type": "execute_result"
    },
    {
     "data": {
      "image/png": "[encoded data removed]",
      "text/plain": [
       "<Figure size 432x288 with 1 Axes>"
      ]
     },
     "metadata": {
      "needs_background": "light"
     },
     "output_type": "display_data"
    }
   ],
   "source": [
    "pl.plot_1dstyle(ylog=True,ymin=1e-8,ymax=1e-5)\n",
    "plot(L,Al['tTT'],label='TT')\n",
    "#plot(L,Al['tEB'],label='EB')\n",
    "plot(l,ntt,label='Planck2015')\n",
    "legend()"
   ]
  },
  {
   "cell_type": "code",
   "execution_count": 8,
   "metadata": {},
   "outputs": [],
   "source": [
    "Al['lTT'], __ = curvedsky.norm_lens.qtt(lmax,rlmin,rlmax,lcl[0,:],ocl[0,:])\n",
    "Al['xTT'] = curvedsky.norm_lens.ttt(lmax,rlmin,rlmax,lcl[0,:],ocl[0,:])\n",
    "Il = 1./(1.-Al['tTT']*Al['lTT']*Al['xTT']**2)\n",
    "Al['qTT'] = Al['tTT']*Il\n",
    "#Al['lEB'], c = curvedsky.norm_lens.qeb(lmax,rlmin,rlmax,lcl[1,:],ocl[1,:],ocl[2,:])\n",
    "#Il = 1./(1.-Al['lEB']*Al['tEB']*Al['xEB']**2)\n",
    "#Al['lEB'] = Al['lEB']*Il"
   ]
  },
  {
   "cell_type": "code",
   "execution_count": 9,
   "metadata": {},
   "outputs": [
    {
     "data": {
      "text/plain": [
       "<matplotlib.legend.Legend at 0x2aaadd4b1d68>"
      ]
     },
     "execution_count": 9,
     "metadata": {},
     "output_type": "execute_result"
    },
    {
     "data": {
      "image/png": "[encoded data removed]",
      "text/plain": [
       "<Figure size 432x288 with 1 Axes>"
      ]
     },
     "metadata": {
      "needs_background": "light"
     },
     "output_type": "display_data"
    }
   ],
   "source": [
    "pl.plot_1dstyle(ylog=True,ymin=1e-7,ymax=1e-5)\n",
    "plot(L,Al['qTT'],label='bhe')\n",
    "plot(L,Al['tTT'],label='std')\n",
    "legend()"
   ]
  },
  {
   "cell_type": "code",
   "execution_count": 10,
   "metadata": {},
   "outputs": [],
   "source": [
    "# simple diagonal c-inverse\n",
    "Fl = np.zeros((3,lmax+1,lmax+1))\n",
    "for l in range(rlmin,rlmax):\n",
    "    Fl[:,l,0:l+1] = 1./ocl[:3,l,None]"
   ]
  },
  {
   "cell_type": "code",
   "execution_count": 11,
   "metadata": {},
   "outputs": [],
   "source": [
    "simn = 10\n",
    "nside = 2048\n",
    "cltt = 1e-3*4*np.pi/2000.**2*np.exp(-(L/2000.)**2)"
   ]
  },
  {
   "cell_type": "code",
   "execution_count": 22,
   "metadata": {},
   "outputs": [],
   "source": [
    "# load mask\n",
    "W = hp.fitsfunc.read_map('../data/COM_Mask_Lensing_2048_R2.00_a1.0deg.fits',verbose=False)\n",
    "W = hp.ud_grade(W,nside)"
   ]
  },
  {
   "cell_type": "code",
   "execution_count": 25,
   "metadata": {},
   "outputs": [
    {
     "name": "stdout",
     "output_type": "stream",
     "text": [
      "0\n",
      "1\n",
      "2\n",
      "3\n",
      "4\n",
      "5\n",
      "6\n",
      "7\n",
      "8\n",
      "9\n"
     ]
    }
   ],
   "source": [
    "xl = np.zeros((simn,3,lmax+1))\n",
    "for i in range(simn):\n",
    "    print(i)\n",
    "    xl[i,:,:] = sim(nside,cltt,Al,Il,W)"
   ]
  },
  {
   "cell_type": "code",
   "execution_count": 26,
   "metadata": {},
   "outputs": [
    {
     "data": {
      "text/plain": [
       "[<matplotlib.lines.Line2D at 0x2aaae4b31710>]"
      ]
     },
     "execution_count": 26,
     "metadata": {},
     "output_type": "execute_result"
    },
    {
     "data": {
      "image/png": "[encoded data removed]",
      "text/plain": [
       "<Figure size 432x288 with 1 Axes>"
      ]
     },
     "metadata": {
      "needs_background": "light"
     },
     "output_type": "display_data"
    }
   ],
   "source": [
    "mxl = np.mean(xl,axis=0)\n",
    "ylim(0,1e-8)\n",
    "plot(mxl[0,:])\n",
    "plot(mxl[1,:])\n",
    "plot(mxl[2,:])"
   ]
  },
  {
   "cell_type": "code",
   "execution_count": null,
   "metadata": {},
   "outputs": [],
   "source": [
    "#Qmap, Umap = curvedsky.utils.hp_alm2map_spin(nside,lmax,lmax,2,Ealm,Balm)\n",
    "#Ealm, Balm = curvedsky.utils.hp_map2alm_spin(nside,lmax,lmax,2,Qmap*np.exp(-tau),Umap*np.exp(-tau))"
   ]
  },
  {
   "cell_type": "code",
   "execution_count": null,
   "metadata": {},
   "outputs": [],
   "source": [
    "# add nosie and filtering (pol)\n",
    "#Ealm += curvedsky.utils.gauss1alm(lmax,nl[1,:])\n",
    "#Balm += curvedsky.utils.gauss1alm(lmax,nl[2,:])\n",
    "#Ealm *= Fl[1,:,:]\n",
    "#Balm *= Fl[2,:,:]"
   ]
  },
  {
   "cell_type": "code",
   "execution_count": null,
   "metadata": {},
   "outputs": [],
   "source": [
    "#alm['qEB'] = curvedsky.rec_tau.qeb(lmax,rlmin,rlmax,lcl[1,:],Ealm,Balm)"
   ]
  }
 ],
 "metadata": {
  "kernelspec": {
   "display_name": "py4so",
   "language": "python",
   "name": "py4so"
  },
  "language_info": {
   "codemirror_mode": {
    "name": "ipython",
    "version": 3
   },
   "file_extension": ".py",
   "mimetype": "text/x-python",
   "name": "python",
   "nbconvert_exporter": "python",
   "pygments_lexer": "ipython3",
   "version": "3.7.2"
  }
 },
 "nbformat": 4,
 "nbformat_minor": 4
}
