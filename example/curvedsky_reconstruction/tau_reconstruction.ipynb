{
 "cells": [
  {
   "cell_type": "markdown",
   "metadata": {},
   "source": [
    "#### A quick demonstration of patchy tau (amplitude modulation) reconstruction in fullsky\n",
    "#### - this code shows how to compute the estiamtors, and output their power spectra"
   ]
  },
  {
   "cell_type": "code",
   "execution_count": null,
   "metadata": {},
   "outputs": [],
   "source": [
    "import numpy as np, basic, curvedsky, plottools as pl, healpy as hp, binning as bn\n",
    "from scipy.interpolate import interp1d\n",
    "from matplotlib.pyplot import *"
   ]
  },
  {
   "cell_type": "code",
   "execution_count": null,
   "metadata": {},
   "outputs": [],
   "source": [
    "def sim(nside,lmax,rlmin,rlmax,lcl,cltt,Al,nl,W):\n",
    "    # gaussian alms are generated, and the reconstructed cls are equal to the normalization\n",
    "    Talm, Ealm, Balm = curvedsky.utils.gaussTEB(lmax,lcl[0,:],lcl[1,:],lcl[2,:],lcl[3,:])\n",
    "    # tau map\n",
    "    tlm = curvedsky.utils.gauss1alm(lmax,cltt)\n",
    "    tau = curvedsky.utils.hp_alm2map(nside,lmax,lmax,tlm)\n",
    "    # modulate amplitude in map space\n",
    "    Talm = curvedsky.utils.mulwin(Talm,np.exp(-tau)*W)\n",
    "    Ealm, Balm = curvedsky.utils.mulwin_spin(Ealm,Balm,np.exp(-tau)*W)\n",
    "    # add noise and filtering (temp)\n",
    "    Talm += curvedsky.utils.gauss1alm(lmax,nl[0,:])\n",
    "    Ealm += curvedsky.utils.gauss1alm(lmax,nl[1,:])\n",
    "    Balm += curvedsky.utils.gauss1alm(lmax,nl[2,:])\n",
    "    # simple diagonal c-inverse\n",
    "    Fl = np.zeros((3,lmax+1,lmax+1))\n",
    "    for l in range(rlmin,rlmax):\n",
    "        Fl[:,l,0:l+1] = 1./ocl[:3,l,None]\n",
    "    Talm *= Fl[0,:,:]\n",
    "    Ealm *= Fl[1,:,:]\n",
    "    Balm *= Fl[2,:,:]\n",
    "    # compute unnormalized estiamtors\n",
    "    alm = {}\n",
    "    alm['TT'] = curvedsky.rec_tau.qtt(lmax,rlmin,rlmax,lcl[0,:],Talm,Talm)\n",
    "    alm['EB'] = curvedsky.rec_tau.qeb(lmax,rlmin,rlmax,lcl[1,:],Ealm,Balm)\n",
    "    # compute auto and cross spectra\n",
    "    xl, cl = {}, {}\n",
    "    for qest in ['TT','EB']:\n",
    "        xl[qest] = curvedsky.utils.alm2cl(lmax,-Al[qest][:,None]*alm[qest],tlm)/np.mean(W**2)\n",
    "        cl[qest] = curvedsky.utils.alm2cl(lmax,-Al[qest][:,None]*alm[qest])/np.mean(W**4)\n",
    "    tl = curvedsky.utils.alm2cl(lmax,tlm)\n",
    "    return xl['TT'], xl['EB'], cl['TT'], cl['EB'], tl"
   ]
  },
  {
   "cell_type": "code",
   "execution_count": null,
   "metadata": {},
   "outputs": [],
   "source": [
    "# define parameters\n",
    "Tcmb  = 2.726e6    # CMB temperature\n",
    "lmax  = 4096       # maximum multipole of output normalization\n",
    "rlmin, rlmax = 100, lmax  # reconstruction multipole range\n",
    "sig   = 1.\n",
    "ac2rad = np.pi/180./60.\n",
    "L = np.linspace(0,lmax,lmax+1)\n",
    "# for sim\n",
    "simn = 10\n",
    "nside = 2048"
   ]
  },
  {
   "cell_type": "markdown",
   "metadata": {},
   "source": [
    "#### Load unlensed and lensed Cls"
   ]
  },
  {
   "cell_type": "code",
   "execution_count": null,
   "metadata": {},
   "outputs": [],
   "source": [
    "lcl = basic.aps.read_cambcls('../data/lensedcls.dat',2,lmax,4,bb=True)/Tcmb**2\n",
    "lcl[2,:] *= 0.1\n",
    "nl  = np.zeros((4,lmax+1))\n",
    "nl[0,:] = (sig*ac2rad/Tcmb)**2\n",
    "nl[1,:] = 2*nl[0,:]\n",
    "nl[2,:] = 2*nl[0,:]\n",
    "ocl = lcl + nl\n",
    "ocl[0,3001:] = 1e30"
   ]
  },
  {
   "cell_type": "markdown",
   "metadata": {},
   "source": [
    "#### Load a theory tau spectrum"
   ]
  },
  {
   "cell_type": "code",
   "execution_count": null,
   "metadata": {},
   "outputs": [],
   "source": [
    "li, cltti = (np.loadtxt('../data/tt_TH_R5.0_a0.0.dat',usecols=(0,1))).T\n",
    "tt = interp1d(np.concatenate(([0],li,[lmax])),np.concatenate(([0],cltti,[0])))\n",
    "cltt = tt(L)"
   ]
  },
  {
   "cell_type": "markdown",
   "metadata": {},
   "source": [
    "#### Calculate normalizations"
   ]
  },
  {
   "cell_type": "code",
   "execution_count": null,
   "metadata": {},
   "outputs": [],
   "source": [
    "Al = {}\n",
    "Al['TT'] = curvedsky.norm_quad.qtt('amp',lmax,rlmin,rlmax,lcl[0,:],ocl[0,:])[0]\n",
    "Al['EB'] = curvedsky.norm_quad.qeb('amp',lmax,rlmin,rlmax,lcl[1,:],ocl[1,:],ocl[2,:])[0]"
   ]
  },
  {
   "cell_type": "code",
   "execution_count": null,
   "metadata": {},
   "outputs": [],
   "source": [
    "pl.plot_1dstyle(ylog=True,ymin=1e-6,ymax=1e-1)\n",
    "plot(L,L**2*Al['TT']/np.sqrt(L+0.5),label='TT')\n",
    "plot(L,L**2*Al['EB']/np.sqrt(L+0.5),label='EB')\n",
    "plot(L,L**2*cltt,label='theory')\n",
    "legend()"
   ]
  },
  {
   "cell_type": "markdown",
   "metadata": {},
   "source": [
    "#### Running simulation"
   ]
  },
  {
   "cell_type": "code",
   "execution_count": null,
   "metadata": {},
   "outputs": [],
   "source": [
    "# load mask\n",
    "#W = hp.fitsfunc.read_map('../data/COM_Mask_Lensing_2048_R2.00_a1.0deg.fits',verbose=False)\n",
    "#W = hp.ud_grade(W,nside)\n",
    "W = 1."
   ]
  },
  {
   "cell_type": "code",
   "execution_count": null,
   "metadata": {},
   "outputs": [],
   "source": [
    "xl = np.zeros((simn,5,lmax+1))\n",
    "for i in range(simn):\n",
    "    print(i)\n",
    "    xl[i,:,:] = sim(nside,lmax,rlmin,rlmax,lcl,cltt,Al,nl,W)"
   ]
  },
  {
   "cell_type": "code",
   "execution_count": null,
   "metadata": {},
   "outputs": [],
   "source": [
    "mb = bn.multipole_binning(20)\n",
    "xls = bn.binning(xl,mb)\n",
    "mxl = np.mean(xls,axis=0)\n",
    "vxl = np.std(xls,axis=0)"
   ]
  },
  {
   "cell_type": "code",
   "execution_count": null,
   "metadata": {},
   "outputs": [],
   "source": [
    "pl.plot_1dstyle(fsize=[10,6],xmin=1,xmax=2048,ymin=-5e-6,ymax=3e-5,ylab=r'$L^2C_L^{\\tau\\tau}/2\\pi$',xlab='$L$')\n",
    "s = mb.bc**2/2/np.pi\n",
    "AbTT = bn.binning(Al['TT'],mb)\n",
    "AbEB = bn.binning(Al['EB'],mb)\n",
    "#errorbar(mb.bc-5,s*(tt(mb.bc)),yerr=s*vxl[2,:],fmt='o',label='TT')\n",
    "errorbar(mb.bc+5,s*(tt(mb.bc)),yerr=s*vxl[3,:],fmt='o',label='EB')\n",
    "axhline(0,color='k',ls='--')\n",
    "legend()"
   ]
  },
  {
   "cell_type": "code",
   "execution_count": null,
   "metadata": {},
   "outputs": [],
   "source": [
    "#pl.plot_1dstyle(fsize=[10,6],xmin=1,xmax=2048,ymin=-2e-4,ymax=2e-4,ylab=r'$C_L^{\\tau\\tau}$',xlab='$L$')\n",
    "#errorbar(mb.bc+10,s*(mxl[2,:]-AbTT),yerr=s*vxl[2,:],fmt='o',label='TT')\n",
    "#errorbar(mb.bc,s*(mxl[3,:]-AbEB),yerr=s*vxl[3,:],fmt='o',label='EB')\n",
    "#plot(L,L**2/2/np.pi*cltt,label='input')\n",
    "#legend()"
   ]
  },
  {
   "cell_type": "code",
   "execution_count": null,
   "metadata": {},
   "outputs": [],
   "source": [
    "pl.plot_1dstyle(fsize=[10,6],xmin=1,xmax=2048,ymin=0,ymax=3e-5,ylab=r'$C_L^{\\tau\\tau}$',xlab='$L$')\n",
    "s = mb.bc**2/2/np.pi\n",
    "errorbar(mb.bc+10,s*mxl[0,:],yerr=s*vxl[0,:],fmt='o',label='TT')\n",
    "errorbar(mb.bc,s*mxl[1,:],yerr=s*vxl[1,:],fmt='o',label='EB')\n",
    "plot(L,L**2/2/np.pi*cltt,label='input')\n",
    "legend()"
   ]
  },
  {
   "cell_type": "code",
   "execution_count": null,
   "metadata": {},
   "outputs": [],
   "source": []
  }
 ],
 "metadata": {
  "kernelspec": {
   "display_name": "py4so",
   "language": "python",
   "name": "py4so"
  },
  "language_info": {
   "codemirror_mode": {
    "name": "ipython",
    "version": 3
   },
   "file_extension": ".py",
   "mimetype": "text/x-python",
   "name": "python",
   "nbconvert_exporter": "python",
   "pygments_lexer": "ipython3",
   "version": "3.7.2"
  }
 },
 "nbformat": 4,
 "nbformat_minor": 4
}
