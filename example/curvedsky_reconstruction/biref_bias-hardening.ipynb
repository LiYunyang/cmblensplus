{
 "cells": [
  {
   "cell_type": "code",
   "execution_count": 1,
   "metadata": {},
   "outputs": [],
   "source": [
    "# load modules\n",
    "import numpy as np\n",
    "import basic\n",
    "import curvedsky\n",
    "from matplotlib.pyplot import *"
   ]
  },
  {
   "cell_type": "code",
   "execution_count": 2,
   "metadata": {},
   "outputs": [],
   "source": [
    "# define parameters\n",
    "Tcmb  = 2.726e6    # CMB temperature\n",
    "lmax  = 3000       # maximum multipole of output normalization\n",
    "rlmin = 100\n",
    "rlmax = 3000      # reconstruction multipole range\n",
    "sig   = 10.\n",
    "ac2rad = np.pi/180./60.\n",
    "L = np.linspace(0,lmax,lmax+1)"
   ]
  },
  {
   "cell_type": "code",
   "execution_count": 3,
   "metadata": {},
   "outputs": [],
   "source": [
    "# load unlensed and lensed Cls\n",
    "lcl = basic.aps.read_cambcls('../data/lensedcls.dat',2,lmax,4,bb=True)/Tcmb**2\n",
    "nl  = np.zeros((4,lmax+1))\n",
    "nl[0,:] = (sig*ac2rad/Tcmb)**2\n",
    "nl[1,:] = 2*nl[0,:]\n",
    "nl[2,:] = 2*nl[0,:]\n",
    "ocl = lcl + nl"
   ]
  },
  {
   "cell_type": "code",
   "execution_count": 4,
   "metadata": {},
   "outputs": [],
   "source": [
    "# calculate normalizations\n",
    "Al = {}\n",
    "Rl = {}\n",
    "Al['qEB'] = curvedsky.norm_quad.qeb('rot',lmax,rlmin,rlmax,lcl[1,:],ocl[1,:],ocl[2,:])\n",
    "Al['oEB'] = curvedsky.norm_tau.oeb(lmax,rlmin,rlmax,lcl[1,:],ocl[1,:],ocl[2,:])\n",
    "Rl['qEB'] = curvedsky.norm_rot.teb(lmax,rlmin,rlmax,lcl[1,:],lcl[1,:],ocl[1,:],ocl[2,:])\n",
    "Il = 1./(1.-Al['qEB']*Al['oEB']*Rl['qEB']**2)\n",
    "Al['QEB'] = Al['qEB']*Il"
   ]
  },
  {
   "cell_type": "code",
   "execution_count": 5,
   "metadata": {},
   "outputs": [],
   "source": [
    "# simple diagonal c-inverse\n",
    "Fl = np.zeros((3,lmax+1,lmax+1))\n",
    "for l in range(rlmin,rlmax):\n",
    "    Fl[:,l,0:l+1] = 1./ocl[:3,l,None]"
   ]
  },
  {
   "cell_type": "code",
   "execution_count": 6,
   "metadata": {},
   "outputs": [],
   "source": [
    "# generate CMB alms \n",
    "# - gaussian alms are generated, and the reconstructed cls are equal to the normalization\n",
    "Talm, Ealm, Balm = curvedsky.utils.gaussTEB(lmax,lcl[0,:],lcl[1,:],lcl[2,:],lcl[3,:])\n",
    "Talm += curvedsky.utils.gauss1alm(lmax,nl[0,:])\n",
    "Ealm += curvedsky.utils.gauss1alm(lmax,nl[1,:])\n",
    "Balm += curvedsky.utils.gauss1alm(lmax,nl[2,:])"
   ]
  },
  {
   "cell_type": "code",
   "execution_count": 7,
   "metadata": {},
   "outputs": [],
   "source": [
    "# diagonal filtering\n",
    "Talm *= Fl[0,:,:]\n",
    "Ealm *= Fl[1,:,:]\n",
    "Balm *= Fl[2,:,:]"
   ]
  },
  {
   "cell_type": "code",
   "execution_count": 8,
   "metadata": {},
   "outputs": [],
   "source": [
    "# compute unnormalized estiamtors\n",
    "nsidet = 2048\n",
    "alm = {}\n",
    "alm['qEB'] = curvedsky.rec_rot.qeb(lmax,rlmin,rlmax,lcl[1,:],Ealm,Balm)\n",
    "alm['oEB'] = curvedsky.rec_tau.oeb(lmax,rlmin,rlmax,lcl[1,:],Ealm,Balm)"
   ]
  },
  {
   "cell_type": "code",
   "execution_count": 9,
   "metadata": {},
   "outputs": [],
   "source": [
    "# normalized estimators\n",
    "for qest in ['qEB','oEB']:\n",
    "    alm[qest] *= Al[qest][:,None]"
   ]
  },
  {
   "cell_type": "code",
   "execution_count": 10,
   "metadata": {},
   "outputs": [],
   "source": [
    "# bhe\n",
    "alm['QEB'] = alm['qEB'] - Al['qEB'][:,None]*Rl['qEB'][:,None]*alm['oEB']\n",
    "alm['QEB'] *= Il[:,None]"
   ]
  },
  {
   "cell_type": "code",
   "execution_count": 11,
   "metadata": {},
   "outputs": [],
   "source": [
    "# compute power spectrum\n",
    "cl = {}\n",
    "for qest in ['qEB','oEB','QEB']:\n",
    "    cl[qest] = curvedsky.utils.alm2cl(lmax,alm[qest])"
   ]
  },
  {
   "cell_type": "code",
   "execution_count": 13,
   "metadata": {},
   "outputs": [
    {
     "data": {
      "text/plain": [
       "<matplotlib.legend.Legend at 0x2aab80254940>"
      ]
     },
     "execution_count": 13,
     "metadata": {},
     "output_type": "execute_result"
    },
    {
     "data": {
      "image/png": "[encoded data removed]",
      "text/plain": [
       "<Figure size 432x288 with 1 Axes>"
      ]
     },
     "metadata": {
      "needs_background": "light"
     },
     "output_type": "display_data"
    }
   ],
   "source": [
    "xscale('log')\n",
    "yscale('log')\n",
    "xlim(2,lmax)\n",
    "ylim(1e-8,5e-4)\n",
    "for qest in ['qEB','QEB']:\n",
    "    plot(L,cl[qest],label=qest)\n",
    "legend()"
   ]
  },
  {
   "cell_type": "code",
   "execution_count": null,
   "metadata": {},
   "outputs": [],
   "source": []
  }
 ],
 "metadata": {
  "kernelspec": {
   "display_name": "Python 3",
   "language": "python",
   "name": "python3"
  },
  "language_info": {
   "codemirror_mode": {
    "name": "ipython",
    "version": 3
   },
   "file_extension": ".py",
   "mimetype": "text/x-python",
   "name": "python",
   "nbconvert_exporter": "python",
   "pygments_lexer": "ipython3",
   "version": "3.7.2"
  }
 },
 "nbformat": 4,
 "nbformat_minor": 4
}
